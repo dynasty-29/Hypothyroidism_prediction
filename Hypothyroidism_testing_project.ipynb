{
  "nbformat": 4,
  "nbformat_minor": 0,
  "metadata": {
    "colab": {
      "name": "Hypothyroidism_testing_project.ipynb",
      "provenance": [],
      "collapsed_sections": [],
      "authorship_tag": "ABX9TyNrXLb/4CkpaxaoxVGkQHoE",
      "include_colab_link": true
    },
    "kernelspec": {
      "name": "python3",
      "display_name": "Python 3"
    },
    "language_info": {
      "name": "python"
    }
  },
  "cells": [
    {
      "cell_type": "markdown",
      "metadata": {
        "id": "view-in-github",
        "colab_type": "text"
      },
      "source": [
        "<a href=\"https://colab.research.google.com/github/dynasty-29/Hypothyroidism_prediction/blob/main/Hypothyroidism_testing_project.ipynb\" target=\"_parent\"><img src=\"https://colab.research.google.com/assets/colab-badge.svg\" alt=\"Open In Colab\"/></a>"
      ]
    },
    {
      "cell_type": "markdown",
      "source": [
        "![tsh.png](data:image/png;base64,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)\n",
        "# **Introduction**\n",
        "Hypothyroidism is a common condition where the thyroid doesn’t create and release enough thyroid hormone into your bloodstream. This makes your metabolism slow down. Also called underactive thyroid, hypothyroidism can make you feel tired, gain weight and be unable to tolerate cold temperatures.\n",
        "Hypothyroidism can have a primary cause or a secondary cause. A primary cause is a condition that directly impacts the thyroid and causes it to create low levels of thyroid hormones (thyroxine (**T4**) and triiodothyronine (**T3**)). A secondary cause is something that causes the pituitary gland to fail, which means it can’t send thyroid stimulating hormone (**TSH**) to the thyroid to balance out the thyroid hormones.\n",
        "\n",
        "Primary causes of hypothyroidism are much more common. The most common of these primary causes is an autoimmune condition called Hashimoto’s disease. Also called Hashimoto’s thyroiditis or chronic lymphocytic thyroiditis, this condition is hereditary (passed down through a family). In Hashimoto’s disease, the body’s immune system attacks and damages the thyroid. This prevents the thyroid from making and releasing enough thyroid hormone.\n",
        "\n",
        "The other primary causes of hypothyroidism can include:\n",
        "\n",
        "Thyroiditis (inflammation of the thyroid); \n",
        "Treatment of hyperthyroidism (radiation and surgical removal of the thyroid); \n",
        "Iodine deficiency (not having enough iodine — a mineral your thyroid uses to make hormones – in your body);\n",
        "Hereditary conditions (a medical condition passed down through your family)."
      ],
      "metadata": {
        "id": "IATu_vY-W40l"
      }
    },
    {
      "cell_type": "markdown",
      "source": [
        "# **Problem Statement**\n",
        "Nairobi Hospital conducted a clinical camp to test for hypothyroidism. The data collected focused on Thyroid patients. As the data scientist my objective is to use the healthcare datasets provided to build a model that determines whether or not the patient's symptoms indicate that the patient has hypothyroid."
      ],
      "metadata": {
        "id": "l7JDfguuW4uq"
      }
    },
    {
      "cell_type": "markdown",
      "source": [
        "# **Objective**\n",
        "Determining the different indicators of hypothyroidism"
      ],
      "metadata": {
        "id": "Vo6ca21TW4pb"
      }
    },
    {
      "cell_type": "markdown",
      "source": [
        "## **Metrics of success**\n",
        "* Read and explore the given dataset.\n",
        "\n",
        "* Finding and dealing with outliers, anomalies, and missing data within the dataset.\n",
        "\n",
        "* Performing univariate, bivariate and multivariate analysis.\n",
        "\n",
        "* Performing SVm and Decision tree models and choosing the best model with the highest accuracy rate above 90%.\n",
        "\n",
        "\n",
        "* Providing recommendation based the analysis.\n",
        "\n",
        "* Challenge the solution by providing insights on how you can make improvements in model improvement."
      ],
      "metadata": {
        "id": "cm86_kRqW4kM"
      }
    },
    {
      "cell_type": "markdown",
      "source": [
        "# **Data Understanding**\n",
        "* Will import important libraries\n",
        "* Will load our dataset"
      ],
      "metadata": {
        "id": "QD_Y_eD-W4eO"
      }
    },
    {
      "cell_type": "code",
      "execution_count": 1,
      "metadata": {
        "id": "iHPk4fhWZ8h5"
      },
      "outputs": [],
      "source": [
        "#Importing libraries\n",
        "import pandas as pd\n",
        "import numpy as np\n",
        "import matplotlib.pyplot as plt\n",
        "%matplotlib inline\n",
        "import seaborn as sns\n",
        "import warnings\n",
        "warnings.filterwarnings(\"ignore\")"
      ]
    },
    {
      "cell_type": "code",
      "source": [
        "#loading the data\n",
        "tsh = pd.read_csv('hypothyroid.csv')"
      ],
      "metadata": {
        "id": "wctCyMklarWu"
      },
      "execution_count": 2,
      "outputs": []
    },
    {
      "cell_type": "code",
      "source": [
        "#Viewing first five rows\n",
        "tsh.head()"
      ],
      "metadata": {
        "colab": {
          "base_uri": "https://localhost:8080/",
          "height": 299
        },
        "id": "9qOezoOsa8J_",
        "outputId": "b96c39b4-1d89-4bb0-f3ff-628d53c67a1e"
      },
      "execution_count": 3,
      "outputs": [
        {
          "output_type": "execute_result",
          "data": {
            "text/plain": [
              "        status age sex on_thyroxine query_on_thyroxine  \\\n",
              "0  hypothyroid  72   M            f                  f   \n",
              "1  hypothyroid  15   F            t                  f   \n",
              "2  hypothyroid  24   M            f                  f   \n",
              "3  hypothyroid  24   F            f                  f   \n",
              "4  hypothyroid  77   M            f                  f   \n",
              "\n",
              "  on_antithyroid_medication thyroid_surgery query_hypothyroid  \\\n",
              "0                         f               f                 f   \n",
              "1                         f               f                 f   \n",
              "2                         f               f                 f   \n",
              "3                         f               f                 f   \n",
              "4                         f               f                 f   \n",
              "\n",
              "  query_hyperthyroid pregnant  ... T3_measured    T3 TT4_measured TT4  \\\n",
              "0                  f        f  ...           y  0.60            y  15   \n",
              "1                  f        f  ...           y  1.70            y  19   \n",
              "2                  f        f  ...           y  0.20            y   4   \n",
              "3                  f        f  ...           y  0.40            y   6   \n",
              "4                  f        f  ...           y  1.20            y  57   \n",
              "\n",
              "  T4U_measured   T4U FTI_measured FTI TBG_measured TBG  \n",
              "0            y  1.48            y  10            n   ?  \n",
              "1            y  1.13            y  17            n   ?  \n",
              "2            y     1            y   0            n   ?  \n",
              "3            y  1.04            y   6            n   ?  \n",
              "4            y  1.28            y  44            n   ?  \n",
              "\n",
              "[5 rows x 26 columns]"
            ],
            "text/html": [
              "\n",
              "  <div id=\"df-5fb72c61-53c6-4a5d-ae09-767e57745f95\">\n",
              "    <div class=\"colab-df-container\">\n",
              "      <div>\n",
              "<style scoped>\n",
              "    .dataframe tbody tr th:only-of-type {\n",
              "        vertical-align: middle;\n",
              "    }\n",
              "\n",
              "    .dataframe tbody tr th {\n",
              "        vertical-align: top;\n",
              "    }\n",
              "\n",
              "    .dataframe thead th {\n",
              "        text-align: right;\n",
              "    }\n",
              "</style>\n",
              "<table border=\"1\" class=\"dataframe\">\n",
              "  <thead>\n",
              "    <tr style=\"text-align: right;\">\n",
              "      <th></th>\n",
              "      <th>status</th>\n",
              "      <th>age</th>\n",
              "      <th>sex</th>\n",
              "      <th>on_thyroxine</th>\n",
              "      <th>query_on_thyroxine</th>\n",
              "      <th>on_antithyroid_medication</th>\n",
              "      <th>thyroid_surgery</th>\n",
              "      <th>query_hypothyroid</th>\n",
              "      <th>query_hyperthyroid</th>\n",
              "      <th>pregnant</th>\n",
              "      <th>...</th>\n",
              "      <th>T3_measured</th>\n",
              "      <th>T3</th>\n",
              "      <th>TT4_measured</th>\n",
              "      <th>TT4</th>\n",
              "      <th>T4U_measured</th>\n",
              "      <th>T4U</th>\n",
              "      <th>FTI_measured</th>\n",
              "      <th>FTI</th>\n",
              "      <th>TBG_measured</th>\n",
              "      <th>TBG</th>\n",
              "    </tr>\n",
              "  </thead>\n",
              "  <tbody>\n",
              "    <tr>\n",
              "      <th>0</th>\n",
              "      <td>hypothyroid</td>\n",
              "      <td>72</td>\n",
              "      <td>M</td>\n",
              "      <td>f</td>\n",
              "      <td>f</td>\n",
              "      <td>f</td>\n",
              "      <td>f</td>\n",
              "      <td>f</td>\n",
              "      <td>f</td>\n",
              "      <td>f</td>\n",
              "      <td>...</td>\n",
              "      <td>y</td>\n",
              "      <td>0.60</td>\n",
              "      <td>y</td>\n",
              "      <td>15</td>\n",
              "      <td>y</td>\n",
              "      <td>1.48</td>\n",
              "      <td>y</td>\n",
              "      <td>10</td>\n",
              "      <td>n</td>\n",
              "      <td>?</td>\n",
              "    </tr>\n",
              "    <tr>\n",
              "      <th>1</th>\n",
              "      <td>hypothyroid</td>\n",
              "      <td>15</td>\n",
              "      <td>F</td>\n",
              "      <td>t</td>\n",
              "      <td>f</td>\n",
              "      <td>f</td>\n",
              "      <td>f</td>\n",
              "      <td>f</td>\n",
              "      <td>f</td>\n",
              "      <td>f</td>\n",
              "      <td>...</td>\n",
              "      <td>y</td>\n",
              "      <td>1.70</td>\n",
              "      <td>y</td>\n",
              "      <td>19</td>\n",
              "      <td>y</td>\n",
              "      <td>1.13</td>\n",
              "      <td>y</td>\n",
              "      <td>17</td>\n",
              "      <td>n</td>\n",
              "      <td>?</td>\n",
              "    </tr>\n",
              "    <tr>\n",
              "      <th>2</th>\n",
              "      <td>hypothyroid</td>\n",
              "      <td>24</td>\n",
              "      <td>M</td>\n",
              "      <td>f</td>\n",
              "      <td>f</td>\n",
              "      <td>f</td>\n",
              "      <td>f</td>\n",
              "      <td>f</td>\n",
              "      <td>f</td>\n",
              "      <td>f</td>\n",
              "      <td>...</td>\n",
              "      <td>y</td>\n",
              "      <td>0.20</td>\n",
              "      <td>y</td>\n",
              "      <td>4</td>\n",
              "      <td>y</td>\n",
              "      <td>1</td>\n",
              "      <td>y</td>\n",
              "      <td>0</td>\n",
              "      <td>n</td>\n",
              "      <td>?</td>\n",
              "    </tr>\n",
              "    <tr>\n",
              "      <th>3</th>\n",
              "      <td>hypothyroid</td>\n",
              "      <td>24</td>\n",
              "      <td>F</td>\n",
              "      <td>f</td>\n",
              "      <td>f</td>\n",
              "      <td>f</td>\n",
              "      <td>f</td>\n",
              "      <td>f</td>\n",
              "      <td>f</td>\n",
              "      <td>f</td>\n",
              "      <td>...</td>\n",
              "      <td>y</td>\n",
              "      <td>0.40</td>\n",
              "      <td>y</td>\n",
              "      <td>6</td>\n",
              "      <td>y</td>\n",
              "      <td>1.04</td>\n",
              "      <td>y</td>\n",
              "      <td>6</td>\n",
              "      <td>n</td>\n",
              "      <td>?</td>\n",
              "    </tr>\n",
              "    <tr>\n",
              "      <th>4</th>\n",
              "      <td>hypothyroid</td>\n",
              "      <td>77</td>\n",
              "      <td>M</td>\n",
              "      <td>f</td>\n",
              "      <td>f</td>\n",
              "      <td>f</td>\n",
              "      <td>f</td>\n",
              "      <td>f</td>\n",
              "      <td>f</td>\n",
              "      <td>f</td>\n",
              "      <td>...</td>\n",
              "      <td>y</td>\n",
              "      <td>1.20</td>\n",
              "      <td>y</td>\n",
              "      <td>57</td>\n",
              "      <td>y</td>\n",
              "      <td>1.28</td>\n",
              "      <td>y</td>\n",
              "      <td>44</td>\n",
              "      <td>n</td>\n",
              "      <td>?</td>\n",
              "    </tr>\n",
              "  </tbody>\n",
              "</table>\n",
              "<p>5 rows × 26 columns</p>\n",
              "</div>\n",
              "      <button class=\"colab-df-convert\" onclick=\"convertToInteractive('df-5fb72c61-53c6-4a5d-ae09-767e57745f95')\"\n",
              "              title=\"Convert this dataframe to an interactive table.\"\n",
              "              style=\"display:none;\">\n",
              "        \n",
              "  <svg xmlns=\"http://www.w3.org/2000/svg\" height=\"24px\"viewBox=\"0 0 24 24\"\n",
              "       width=\"24px\">\n",
              "    <path d=\"M0 0h24v24H0V0z\" fill=\"none\"/>\n",
              "    <path d=\"M18.56 5.44l.94 2.06.94-2.06 2.06-.94-2.06-.94-.94-2.06-.94 2.06-2.06.94zm-11 1L8.5 8.5l.94-2.06 2.06-.94-2.06-.94L8.5 2.5l-.94 2.06-2.06.94zm10 10l.94 2.06.94-2.06 2.06-.94-2.06-.94-.94-2.06-.94 2.06-2.06.94z\"/><path d=\"M17.41 7.96l-1.37-1.37c-.4-.4-.92-.59-1.43-.59-.52 0-1.04.2-1.43.59L10.3 9.45l-7.72 7.72c-.78.78-.78 2.05 0 2.83L4 21.41c.39.39.9.59 1.41.59.51 0 1.02-.2 1.41-.59l7.78-7.78 2.81-2.81c.8-.78.8-2.07 0-2.86zM5.41 20L4 18.59l7.72-7.72 1.47 1.35L5.41 20z\"/>\n",
              "  </svg>\n",
              "      </button>\n",
              "      \n",
              "  <style>\n",
              "    .colab-df-container {\n",
              "      display:flex;\n",
              "      flex-wrap:wrap;\n",
              "      gap: 12px;\n",
              "    }\n",
              "\n",
              "    .colab-df-convert {\n",
              "      background-color: #E8F0FE;\n",
              "      border: none;\n",
              "      border-radius: 50%;\n",
              "      cursor: pointer;\n",
              "      display: none;\n",
              "      fill: #1967D2;\n",
              "      height: 32px;\n",
              "      padding: 0 0 0 0;\n",
              "      width: 32px;\n",
              "    }\n",
              "\n",
              "    .colab-df-convert:hover {\n",
              "      background-color: #E2EBFA;\n",
              "      box-shadow: 0px 1px 2px rgba(60, 64, 67, 0.3), 0px 1px 3px 1px rgba(60, 64, 67, 0.15);\n",
              "      fill: #174EA6;\n",
              "    }\n",
              "\n",
              "    [theme=dark] .colab-df-convert {\n",
              "      background-color: #3B4455;\n",
              "      fill: #D2E3FC;\n",
              "    }\n",
              "\n",
              "    [theme=dark] .colab-df-convert:hover {\n",
              "      background-color: #434B5C;\n",
              "      box-shadow: 0px 1px 3px 1px rgba(0, 0, 0, 0.15);\n",
              "      filter: drop-shadow(0px 1px 2px rgba(0, 0, 0, 0.3));\n",
              "      fill: #FFFFFF;\n",
              "    }\n",
              "  </style>\n",
              "\n",
              "      <script>\n",
              "        const buttonEl =\n",
              "          document.querySelector('#df-5fb72c61-53c6-4a5d-ae09-767e57745f95 button.colab-df-convert');\n",
              "        buttonEl.style.display =\n",
              "          google.colab.kernel.accessAllowed ? 'block' : 'none';\n",
              "\n",
              "        async function convertToInteractive(key) {\n",
              "          const element = document.querySelector('#df-5fb72c61-53c6-4a5d-ae09-767e57745f95');\n",
              "          const dataTable =\n",
              "            await google.colab.kernel.invokeFunction('convertToInteractive',\n",
              "                                                     [key], {});\n",
              "          if (!dataTable) return;\n",
              "\n",
              "          const docLinkHtml = 'Like what you see? Visit the ' +\n",
              "            '<a target=\"_blank\" href=https://colab.research.google.com/notebooks/data_table.ipynb>data table notebook</a>'\n",
              "            + ' to learn more about interactive tables.';\n",
              "          element.innerHTML = '';\n",
              "          dataTable['output_type'] = 'display_data';\n",
              "          await google.colab.output.renderOutput(dataTable, element);\n",
              "          const docLink = document.createElement('div');\n",
              "          docLink.innerHTML = docLinkHtml;\n",
              "          element.appendChild(docLink);\n",
              "        }\n",
              "      </script>\n",
              "    </div>\n",
              "  </div>\n",
              "  "
            ]
          },
          "metadata": {},
          "execution_count": 3
        }
      ]
    },
    {
      "cell_type": "code",
      "source": [
        "#last five rows\n",
        "tsh.tail()"
      ],
      "metadata": {
        "colab": {
          "base_uri": "https://localhost:8080/",
          "height": 299
        },
        "id": "_Ta86WkPbIOx",
        "outputId": "23a8e8ae-bafb-4381-db2e-c8a0b91a3041"
      },
      "execution_count": 4,
      "outputs": [
        {
          "output_type": "execute_result",
          "data": {
            "text/plain": [
              "        status age sex on_thyroxine query_on_thyroxine  \\\n",
              "3158  negative  58   F            f                  f   \n",
              "3159  negative  29   F            f                  f   \n",
              "3160  negative  77   M            f                  f   \n",
              "3161  negative  74   F            f                  f   \n",
              "3162  negative  56   F            t                  f   \n",
              "\n",
              "     on_antithyroid_medication thyroid_surgery query_hypothyroid  \\\n",
              "3158                         f               f                 f   \n",
              "3159                         f               f                 f   \n",
              "3160                         f               f                 f   \n",
              "3161                         f               f                 f   \n",
              "3162                         f               f                 f   \n",
              "\n",
              "     query_hyperthyroid pregnant  ... T3_measured    T3 TT4_measured  TT4  \\\n",
              "3158                  f        f  ...           y  1.70            y   86   \n",
              "3159                  f        f  ...           y  1.80            y   99   \n",
              "3160                  f        f  ...           y  0.60            y   71   \n",
              "3161                  f        f  ...           y  0.10            y   65   \n",
              "3162                  f        f  ...           y  1.80            y  139   \n",
              "\n",
              "     T4U_measured   T4U FTI_measured  FTI TBG_measured TBG  \n",
              "3158            y  0.91            y   95            n   ?  \n",
              "3159            y  1.01            y   98            n   ?  \n",
              "3160            y  0.68            y  104            n   ?  \n",
              "3161            y  0.48            y  137            n   ?  \n",
              "3162            y  0.97            y  143            n   ?  \n",
              "\n",
              "[5 rows x 26 columns]"
            ],
            "text/html": [
              "\n",
              "  <div id=\"df-503bdd23-919d-4b32-ae17-a4d6e82fc92f\">\n",
              "    <div class=\"colab-df-container\">\n",
              "      <div>\n",
              "<style scoped>\n",
              "    .dataframe tbody tr th:only-of-type {\n",
              "        vertical-align: middle;\n",
              "    }\n",
              "\n",
              "    .dataframe tbody tr th {\n",
              "        vertical-align: top;\n",
              "    }\n",
              "\n",
              "    .dataframe thead th {\n",
              "        text-align: right;\n",
              "    }\n",
              "</style>\n",
              "<table border=\"1\" class=\"dataframe\">\n",
              "  <thead>\n",
              "    <tr style=\"text-align: right;\">\n",
              "      <th></th>\n",
              "      <th>status</th>\n",
              "      <th>age</th>\n",
              "      <th>sex</th>\n",
              "      <th>on_thyroxine</th>\n",
              "      <th>query_on_thyroxine</th>\n",
              "      <th>on_antithyroid_medication</th>\n",
              "      <th>thyroid_surgery</th>\n",
              "      <th>query_hypothyroid</th>\n",
              "      <th>query_hyperthyroid</th>\n",
              "      <th>pregnant</th>\n",
              "      <th>...</th>\n",
              "      <th>T3_measured</th>\n",
              "      <th>T3</th>\n",
              "      <th>TT4_measured</th>\n",
              "      <th>TT4</th>\n",
              "      <th>T4U_measured</th>\n",
              "      <th>T4U</th>\n",
              "      <th>FTI_measured</th>\n",
              "      <th>FTI</th>\n",
              "      <th>TBG_measured</th>\n",
              "      <th>TBG</th>\n",
              "    </tr>\n",
              "  </thead>\n",
              "  <tbody>\n",
              "    <tr>\n",
              "      <th>3158</th>\n",
              "      <td>negative</td>\n",
              "      <td>58</td>\n",
              "      <td>F</td>\n",
              "      <td>f</td>\n",
              "      <td>f</td>\n",
              "      <td>f</td>\n",
              "      <td>f</td>\n",
              "      <td>f</td>\n",
              "      <td>f</td>\n",
              "      <td>f</td>\n",
              "      <td>...</td>\n",
              "      <td>y</td>\n",
              "      <td>1.70</td>\n",
              "      <td>y</td>\n",
              "      <td>86</td>\n",
              "      <td>y</td>\n",
              "      <td>0.91</td>\n",
              "      <td>y</td>\n",
              "      <td>95</td>\n",
              "      <td>n</td>\n",
              "      <td>?</td>\n",
              "    </tr>\n",
              "    <tr>\n",
              "      <th>3159</th>\n",
              "      <td>negative</td>\n",
              "      <td>29</td>\n",
              "      <td>F</td>\n",
              "      <td>f</td>\n",
              "      <td>f</td>\n",
              "      <td>f</td>\n",
              "      <td>f</td>\n",
              "      <td>f</td>\n",
              "      <td>f</td>\n",
              "      <td>f</td>\n",
              "      <td>...</td>\n",
              "      <td>y</td>\n",
              "      <td>1.80</td>\n",
              "      <td>y</td>\n",
              "      <td>99</td>\n",
              "      <td>y</td>\n",
              "      <td>1.01</td>\n",
              "      <td>y</td>\n",
              "      <td>98</td>\n",
              "      <td>n</td>\n",
              "      <td>?</td>\n",
              "    </tr>\n",
              "    <tr>\n",
              "      <th>3160</th>\n",
              "      <td>negative</td>\n",
              "      <td>77</td>\n",
              "      <td>M</td>\n",
              "      <td>f</td>\n",
              "      <td>f</td>\n",
              "      <td>f</td>\n",
              "      <td>f</td>\n",
              "      <td>f</td>\n",
              "      <td>f</td>\n",
              "      <td>f</td>\n",
              "      <td>...</td>\n",
              "      <td>y</td>\n",
              "      <td>0.60</td>\n",
              "      <td>y</td>\n",
              "      <td>71</td>\n",
              "      <td>y</td>\n",
              "      <td>0.68</td>\n",
              "      <td>y</td>\n",
              "      <td>104</td>\n",
              "      <td>n</td>\n",
              "      <td>?</td>\n",
              "    </tr>\n",
              "    <tr>\n",
              "      <th>3161</th>\n",
              "      <td>negative</td>\n",
              "      <td>74</td>\n",
              "      <td>F</td>\n",
              "      <td>f</td>\n",
              "      <td>f</td>\n",
              "      <td>f</td>\n",
              "      <td>f</td>\n",
              "      <td>f</td>\n",
              "      <td>f</td>\n",
              "      <td>f</td>\n",
              "      <td>...</td>\n",
              "      <td>y</td>\n",
              "      <td>0.10</td>\n",
              "      <td>y</td>\n",
              "      <td>65</td>\n",
              "      <td>y</td>\n",
              "      <td>0.48</td>\n",
              "      <td>y</td>\n",
              "      <td>137</td>\n",
              "      <td>n</td>\n",
              "      <td>?</td>\n",
              "    </tr>\n",
              "    <tr>\n",
              "      <th>3162</th>\n",
              "      <td>negative</td>\n",
              "      <td>56</td>\n",
              "      <td>F</td>\n",
              "      <td>t</td>\n",
              "      <td>f</td>\n",
              "      <td>f</td>\n",
              "      <td>f</td>\n",
              "      <td>f</td>\n",
              "      <td>f</td>\n",
              "      <td>f</td>\n",
              "      <td>...</td>\n",
              "      <td>y</td>\n",
              "      <td>1.80</td>\n",
              "      <td>y</td>\n",
              "      <td>139</td>\n",
              "      <td>y</td>\n",
              "      <td>0.97</td>\n",
              "      <td>y</td>\n",
              "      <td>143</td>\n",
              "      <td>n</td>\n",
              "      <td>?</td>\n",
              "    </tr>\n",
              "  </tbody>\n",
              "</table>\n",
              "<p>5 rows × 26 columns</p>\n",
              "</div>\n",
              "      <button class=\"colab-df-convert\" onclick=\"convertToInteractive('df-503bdd23-919d-4b32-ae17-a4d6e82fc92f')\"\n",
              "              title=\"Convert this dataframe to an interactive table.\"\n",
              "              style=\"display:none;\">\n",
              "        \n",
              "  <svg xmlns=\"http://www.w3.org/2000/svg\" height=\"24px\"viewBox=\"0 0 24 24\"\n",
              "       width=\"24px\">\n",
              "    <path d=\"M0 0h24v24H0V0z\" fill=\"none\"/>\n",
              "    <path d=\"M18.56 5.44l.94 2.06.94-2.06 2.06-.94-2.06-.94-.94-2.06-.94 2.06-2.06.94zm-11 1L8.5 8.5l.94-2.06 2.06-.94-2.06-.94L8.5 2.5l-.94 2.06-2.06.94zm10 10l.94 2.06.94-2.06 2.06-.94-2.06-.94-.94-2.06-.94 2.06-2.06.94z\"/><path d=\"M17.41 7.96l-1.37-1.37c-.4-.4-.92-.59-1.43-.59-.52 0-1.04.2-1.43.59L10.3 9.45l-7.72 7.72c-.78.78-.78 2.05 0 2.83L4 21.41c.39.39.9.59 1.41.59.51 0 1.02-.2 1.41-.59l7.78-7.78 2.81-2.81c.8-.78.8-2.07 0-2.86zM5.41 20L4 18.59l7.72-7.72 1.47 1.35L5.41 20z\"/>\n",
              "  </svg>\n",
              "      </button>\n",
              "      \n",
              "  <style>\n",
              "    .colab-df-container {\n",
              "      display:flex;\n",
              "      flex-wrap:wrap;\n",
              "      gap: 12px;\n",
              "    }\n",
              "\n",
              "    .colab-df-convert {\n",
              "      background-color: #E8F0FE;\n",
              "      border: none;\n",
              "      border-radius: 50%;\n",
              "      cursor: pointer;\n",
              "      display: none;\n",
              "      fill: #1967D2;\n",
              "      height: 32px;\n",
              "      padding: 0 0 0 0;\n",
              "      width: 32px;\n",
              "    }\n",
              "\n",
              "    .colab-df-convert:hover {\n",
              "      background-color: #E2EBFA;\n",
              "      box-shadow: 0px 1px 2px rgba(60, 64, 67, 0.3), 0px 1px 3px 1px rgba(60, 64, 67, 0.15);\n",
              "      fill: #174EA6;\n",
              "    }\n",
              "\n",
              "    [theme=dark] .colab-df-convert {\n",
              "      background-color: #3B4455;\n",
              "      fill: #D2E3FC;\n",
              "    }\n",
              "\n",
              "    [theme=dark] .colab-df-convert:hover {\n",
              "      background-color: #434B5C;\n",
              "      box-shadow: 0px 1px 3px 1px rgba(0, 0, 0, 0.15);\n",
              "      filter: drop-shadow(0px 1px 2px rgba(0, 0, 0, 0.3));\n",
              "      fill: #FFFFFF;\n",
              "    }\n",
              "  </style>\n",
              "\n",
              "      <script>\n",
              "        const buttonEl =\n",
              "          document.querySelector('#df-503bdd23-919d-4b32-ae17-a4d6e82fc92f button.colab-df-convert');\n",
              "        buttonEl.style.display =\n",
              "          google.colab.kernel.accessAllowed ? 'block' : 'none';\n",
              "\n",
              "        async function convertToInteractive(key) {\n",
              "          const element = document.querySelector('#df-503bdd23-919d-4b32-ae17-a4d6e82fc92f');\n",
              "          const dataTable =\n",
              "            await google.colab.kernel.invokeFunction('convertToInteractive',\n",
              "                                                     [key], {});\n",
              "          if (!dataTable) return;\n",
              "\n",
              "          const docLinkHtml = 'Like what you see? Visit the ' +\n",
              "            '<a target=\"_blank\" href=https://colab.research.google.com/notebooks/data_table.ipynb>data table notebook</a>'\n",
              "            + ' to learn more about interactive tables.';\n",
              "          element.innerHTML = '';\n",
              "          dataTable['output_type'] = 'display_data';\n",
              "          await google.colab.output.renderOutput(dataTable, element);\n",
              "          const docLink = document.createElement('div');\n",
              "          docLink.innerHTML = docLinkHtml;\n",
              "          element.appendChild(docLink);\n",
              "        }\n",
              "      </script>\n",
              "    </div>\n",
              "  </div>\n",
              "  "
            ]
          },
          "metadata": {},
          "execution_count": 4
        }
      ]
    },
    {
      "cell_type": "code",
      "source": [
        "#Number of records in the data \n",
        "tsh.shape"
      ],
      "metadata": {
        "colab": {
          "base_uri": "https://localhost:8080/"
        },
        "id": "Ylv2D5JzbNSY",
        "outputId": "a79e84b4-284a-4b3b-aa96-fbc6d0ec02b1"
      },
      "execution_count": 5,
      "outputs": [
        {
          "output_type": "execute_result",
          "data": {
            "text/plain": [
              "(3163, 26)"
            ]
          },
          "metadata": {},
          "execution_count": 5
        }
      ]
    },
    {
      "cell_type": "markdown",
      "source": [
        "We have 26 columns and 3163 rows"
      ],
      "metadata": {
        "id": "CHUgdVXNdzGH"
      }
    },
    {
      "cell_type": "markdown",
      "source": [
        "# **Data Preparation**"
      ],
      "metadata": {
        "id": "B1B-6soSb0v6"
      }
    },
    {
      "cell_type": "markdown",
      "source": [
        "**1. Validity check**"
      ],
      "metadata": {
        "id": "RoJj_HLab89I"
      }
    },
    {
      "cell_type": "code",
      "source": [
        "#check how te columns look like\n",
        "tsh.columns"
      ],
      "metadata": {
        "colab": {
          "base_uri": "https://localhost:8080/"
        },
        "id": "2GtJ40akd8QO",
        "outputId": "d7234033-3cbd-4f7c-8480-5a32bdf57cb0"
      },
      "execution_count": 6,
      "outputs": [
        {
          "output_type": "execute_result",
          "data": {
            "text/plain": [
              "Index(['status', 'age', 'sex', 'on_thyroxine', 'query_on_thyroxine',\n",
              "       'on_antithyroid_medication', 'thyroid_surgery', 'query_hypothyroid',\n",
              "       'query_hyperthyroid', 'pregnant', 'sick', 'tumor', 'lithium', 'goitre',\n",
              "       'TSH_measured', 'TSH', 'T3_measured', 'T3', 'TT4_measured', 'TT4',\n",
              "       'T4U_measured', 'T4U', 'FTI_measured', 'FTI', 'TBG_measured', 'TBG'],\n",
              "      dtype='object')"
            ]
          },
          "metadata": {},
          "execution_count": 6
        }
      ]
    },
    {
      "cell_type": "markdown",
      "source": [
        "well labelled columns"
      ],
      "metadata": {
        "id": "eUeClwMveHm6"
      }
    },
    {
      "cell_type": "markdown",
      "source": [
        "**2. Accuracy check**"
      ],
      "metadata": {
        "id": "JE8Bawp3b84C"
      }
    },
    {
      "cell_type": "code",
      "source": [
        "#checking the data types\n",
        "tsh.info()"
      ],
      "metadata": {
        "colab": {
          "base_uri": "https://localhost:8080/"
        },
        "id": "TiS-a_17d9Hs",
        "outputId": "97808880-93e2-40f9-b4fc-ead3a2e6c0ac"
      },
      "execution_count": 7,
      "outputs": [
        {
          "output_type": "stream",
          "name": "stdout",
          "text": [
            "<class 'pandas.core.frame.DataFrame'>\n",
            "RangeIndex: 3163 entries, 0 to 3162\n",
            "Data columns (total 26 columns):\n",
            " #   Column                     Non-Null Count  Dtype \n",
            "---  ------                     --------------  ----- \n",
            " 0   status                     3163 non-null   object\n",
            " 1   age                        3163 non-null   object\n",
            " 2   sex                        3163 non-null   object\n",
            " 3   on_thyroxine               3163 non-null   object\n",
            " 4   query_on_thyroxine         3163 non-null   object\n",
            " 5   on_antithyroid_medication  3163 non-null   object\n",
            " 6   thyroid_surgery            3163 non-null   object\n",
            " 7   query_hypothyroid          3163 non-null   object\n",
            " 8   query_hyperthyroid         3163 non-null   object\n",
            " 9   pregnant                   3163 non-null   object\n",
            " 10  sick                       3163 non-null   object\n",
            " 11  tumor                      3163 non-null   object\n",
            " 12  lithium                    3163 non-null   object\n",
            " 13  goitre                     3163 non-null   object\n",
            " 14  TSH_measured               3163 non-null   object\n",
            " 15  TSH                        3163 non-null   object\n",
            " 16  T3_measured                3163 non-null   object\n",
            " 17  T3                         3163 non-null   object\n",
            " 18  TT4_measured               3163 non-null   object\n",
            " 19  TT4                        3163 non-null   object\n",
            " 20  T4U_measured               3163 non-null   object\n",
            " 21  T4U                        3163 non-null   object\n",
            " 22  FTI_measured               3163 non-null   object\n",
            " 23  FTI                        3163 non-null   object\n",
            " 24  TBG_measured               3163 non-null   object\n",
            " 25  TBG                        3163 non-null   object\n",
            "dtypes: object(26)\n",
            "memory usage: 642.6+ KB\n"
          ]
        }
      ]
    },
    {
      "cell_type": "code",
      "source": [
        "# Changing bool columns  for efficiency with numerical\n",
        "\n",
        "# Boolean columns list\n",
        "bool_cols = ['on_thyroxine', 'query_on_thyroxine','on_antithyroid_medication', 'thyroid_surgery', 'query_hypothyroid',\\\n",
        "            'query_hyperthyroid', 'pregnant', 'sick', 'tumor', 'lithium', 'goitre']\n",
        "\n",
        "# Replacing bool columns with True as 1 or False as o value\n",
        "#\n",
        "for column in bool_cols:\n",
        "  tsh[column] = tsh[column].replace('f', 0)\n",
        "  tsh[column] = tsh[column].replace('t', 1)\n",
        "  \n",
        "  \n",
        "# Previewing the column datatypes to check whether the changes have been effected\n",
        "#\n",
        "tsh.dtypes"
      ],
      "metadata": {
        "colab": {
          "base_uri": "https://localhost:8080/"
        },
        "id": "W2R_EK0Lldl6",
        "outputId": "a595ee3b-1ad7-475b-a353-88913a9ac4bb"
      },
      "execution_count": 8,
      "outputs": [
        {
          "output_type": "execute_result",
          "data": {
            "text/plain": [
              "status                       object\n",
              "age                          object\n",
              "sex                          object\n",
              "on_thyroxine                  int64\n",
              "query_on_thyroxine            int64\n",
              "on_antithyroid_medication     int64\n",
              "thyroid_surgery               int64\n",
              "query_hypothyroid             int64\n",
              "query_hyperthyroid            int64\n",
              "pregnant                      int64\n",
              "sick                          int64\n",
              "tumor                         int64\n",
              "lithium                       int64\n",
              "goitre                        int64\n",
              "TSH_measured                 object\n",
              "TSH                          object\n",
              "T3_measured                  object\n",
              "T3                           object\n",
              "TT4_measured                 object\n",
              "TT4                          object\n",
              "T4U_measured                 object\n",
              "T4U                          object\n",
              "FTI_measured                 object\n",
              "FTI                          object\n",
              "TBG_measured                 object\n",
              "TBG                          object\n",
              "dtype: object"
            ]
          },
          "metadata": {},
          "execution_count": 8
        }
      ]
    },
    {
      "cell_type": "markdown",
      "source": [
        "**3. Completeness check**"
      ],
      "metadata": {
        "id": "utJQ9HS7b8zU"
      }
    },
    {
      "cell_type": "code",
      "source": [
        "#Check for null values\n",
        "tsh.isnull().sum().sum()"
      ],
      "metadata": {
        "colab": {
          "base_uri": "https://localhost:8080/"
        },
        "id": "2D5ll_vmbOzu",
        "outputId": "22f6868c-abe6-4299-a9b0-c2c1d138167c"
      },
      "execution_count": 9,
      "outputs": [
        {
          "output_type": "execute_result",
          "data": {
            "text/plain": [
              "0"
            ]
          },
          "metadata": {},
          "execution_count": 9
        }
      ]
    },
    {
      "cell_type": "markdown",
      "source": [
        " we don't have actual null values but we have \"?\" values in our columns we are going to replace them accordingly"
      ],
      "metadata": {
        "id": "0HhdJwgBh5pT"
      }
    },
    {
      "cell_type": "code",
      "source": [
        "# first Replacing the '?' character in the dataframe with NAN\n",
        "#\n",
        "tsh.replace('?', np.nan, inplace=True)\n"
      ],
      "metadata": {
        "id": "YHjdlC4afIwv"
      },
      "execution_count": 10,
      "outputs": []
    },
    {
      "cell_type": "code",
      "source": [
        "#noe check for nulls\n",
        "tsh.isnull().sum()"
      ],
      "metadata": {
        "colab": {
          "base_uri": "https://localhost:8080/"
        },
        "id": "La-Jaqkkk5NC",
        "outputId": "671a63b2-2d3b-4f8e-d51a-1c8c0792fbe1"
      },
      "execution_count": 11,
      "outputs": [
        {
          "output_type": "execute_result",
          "data": {
            "text/plain": [
              "status                          0\n",
              "age                           446\n",
              "sex                            73\n",
              "on_thyroxine                    0\n",
              "query_on_thyroxine              0\n",
              "on_antithyroid_medication       0\n",
              "thyroid_surgery                 0\n",
              "query_hypothyroid               0\n",
              "query_hyperthyroid              0\n",
              "pregnant                        0\n",
              "sick                            0\n",
              "tumor                           0\n",
              "lithium                         0\n",
              "goitre                          0\n",
              "TSH_measured                    0\n",
              "TSH                           468\n",
              "T3_measured                     0\n",
              "T3                            695\n",
              "TT4_measured                    0\n",
              "TT4                           249\n",
              "T4U_measured                    0\n",
              "T4U                           248\n",
              "FTI_measured                    0\n",
              "FTI                           247\n",
              "TBG_measured                    0\n",
              "TBG                          2903\n",
              "dtype: int64"
            ]
          },
          "metadata": {},
          "execution_count": 11
        }
      ]
    },
    {
      "cell_type": "code",
      "source": [
        "# Visualising missing values\n",
        "#\n",
        "tsh.isna().mean().round(4).sort_values(ascending = False)[:8].plot(kind = 'bar', figsize = (8, 6), color = 'Orange')\n",
        "plt.title('Percentage of missing values')\n",
        "plt.ylabel('Missing values')\n",
        "plt.xlabel('Column')\n",
        "plt.show()"
      ],
      "metadata": {
        "colab": {
          "base_uri": "https://localhost:8080/",
          "height": 415
        },
        "id": "vLuv9aq9hLub",
        "outputId": "2c6a925c-abf9-4bba-971a-956f0e539e23"
      },
      "execution_count": 12,
      "outputs": [
        {
          "output_type": "display_data",
          "data": {
            "text/plain": [
              "<Figure size 576x432 with 1 Axes>"
            ],
            "image/png": "[encoded data removed]"
          },
          "metadata": {
            "needs_background": "light"
          }
        }
      ]
    },
    {
      "cell_type": "markdown",
      "source": [
        "Now we have nulls and will replace them rather than dropping since they are important. However the TBG column has highest number of null so will drop that column. The numerical columns will replace with mean while the categorical will replace by mode"
      ],
      "metadata": {
        "id": "sS2o1Vogjc6H"
      }
    },
    {
      "cell_type": "code",
      "source": [
        "#we will replace the NAN on age column with the mode age \n",
        "tsh['sex'].replace([np.nan], tsh['sex'].mode(), inplace=True)"
      ],
      "metadata": {
        "id": "hC8IjkrLbatm"
      },
      "execution_count": 13,
      "outputs": []
    },
    {
      "cell_type": "code",
      "source": [
        "#changing float columns from object to float\n",
        "tsh[\"TSH\"] = tsh.TSH.astype(float)\n",
        "tsh[\"T3\"] = tsh.T3.astype(float)\n",
        "tsh[\"TT4\"] = tsh.TT4.astype(float)\n",
        "tsh[\"T4U\"] = tsh.T4U.astype(float)\n",
        "tsh[\"FTI\"] = tsh.FTI.astype(float)\n",
        "tsh[\"age\"] = tsh.age.astype(float)"
      ],
      "metadata": {
        "id": "86CP_tAi6hjZ"
      },
      "execution_count": 14,
      "outputs": []
    },
    {
      "cell_type": "code",
      "source": [
        "#we will replace the NAN on numerical column with the mean  \n",
        "tsh['T3'].replace([np.nan], tsh['T3'].mean(), inplace=True)\n",
        "tsh['TSH'].replace([np.nan], tsh['TSH'].mean(), inplace=True)\n",
        "tsh['age'].replace([np.nan], tsh['age'].mean(), inplace=True)\n",
        "tsh['T4U'].replace([np.nan], tsh['T4U'].mean(), inplace=True)\n",
        "tsh['TT4'].replace([np.nan], tsh['TT4'].mean(), inplace=True)\n",
        "tsh['FTI'].replace([np.nan], tsh['FTI'].mean(), inplace=True)"
      ],
      "metadata": {
        "id": "8B0StO5IhzvJ"
      },
      "execution_count": 15,
      "outputs": []
    },
    {
      "cell_type": "code",
      "source": [
        "#checking if the above changes have taken place\n",
        "tsh.isnull().sum()"
      ],
      "metadata": {
        "colab": {
          "base_uri": "https://localhost:8080/"
        },
        "id": "bL91EoWtignv",
        "outputId": "a4d54fcc-fed8-4c72-e7e0-3143becd690c"
      },
      "execution_count": 16,
      "outputs": [
        {
          "output_type": "execute_result",
          "data": {
            "text/plain": [
              "status                          0\n",
              "age                             0\n",
              "sex                             0\n",
              "on_thyroxine                    0\n",
              "query_on_thyroxine              0\n",
              "on_antithyroid_medication       0\n",
              "thyroid_surgery                 0\n",
              "query_hypothyroid               0\n",
              "query_hyperthyroid              0\n",
              "pregnant                        0\n",
              "sick                            0\n",
              "tumor                           0\n",
              "lithium                         0\n",
              "goitre                          0\n",
              "TSH_measured                    0\n",
              "TSH                             0\n",
              "T3_measured                     0\n",
              "T3                              0\n",
              "TT4_measured                    0\n",
              "TT4                             0\n",
              "T4U_measured                    0\n",
              "T4U                             0\n",
              "FTI_measured                    0\n",
              "FTI                             0\n",
              "TBG_measured                    0\n",
              "TBG                          2903\n",
              "dtype: int64"
            ]
          },
          "metadata": {},
          "execution_count": 16
        }
      ]
    },
    {
      "cell_type": "code",
      "source": [
        "#changing float columns from object to float\n",
        "tsh[\"TSH\"] = tsh.TSH.astype(float)\n",
        "tsh[\"T3\"] = tsh.T3.astype(float)\n",
        "tsh[\"TT4\"] = tsh.TT4.astype(float)\n",
        "tsh[\"T4U\"] = tsh.T4U.astype(float)\n",
        "tsh[\"FTI\"] = tsh.FTI.astype(float)\n",
        "tsh[\"age\"] = tsh.age.astype(float)"
      ],
      "metadata": {
        "id": "kLyWWESS6RnV"
      },
      "execution_count": 17,
      "outputs": []
    },
    {
      "cell_type": "markdown",
      "source": [
        "We now have no more missing values other than the TBG column which we dropping next"
      ],
      "metadata": {
        "id": "zRg576I3kFWu"
      }
    },
    {
      "cell_type": "code",
      "source": [
        "#Dropping tbg\n",
        "tsh = tsh.drop(['TBG','TBG_measured'], axis=1)"
      ],
      "metadata": {
        "id": "j3XJIDRakMxZ"
      },
      "execution_count": 18,
      "outputs": []
    },
    {
      "cell_type": "markdown",
      "source": [
        "**4. Consistency check**"
      ],
      "metadata": {
        "id": "qPhZ2409cLZv"
      }
    },
    {
      "cell_type": "code",
      "source": [
        "#We check if we have any duplicates\n",
        "tsh.duplicated().sum()"
      ],
      "metadata": {
        "colab": {
          "base_uri": "https://localhost:8080/"
        },
        "id": "rDGx0qAfcPcO",
        "outputId": "174893bb-06fc-45cd-8172-8fe3dcaecb27"
      },
      "execution_count": 19,
      "outputs": [
        {
          "output_type": "execute_result",
          "data": {
            "text/plain": [
              "156"
            ]
          },
          "metadata": {},
          "execution_count": 19
        }
      ]
    },
    {
      "cell_type": "code",
      "source": [
        "# Previewing the first five rows of the duplicated data\n",
        "#\n",
        "tsh[tsh.duplicated()].head()"
      ],
      "metadata": {
        "colab": {
          "base_uri": "https://localhost:8080/",
          "height": 299
        },
        "id": "97s1qIVyk1yN",
        "outputId": "bc395ae0-dcc4-4847-f84e-bbe7c1b72b5a"
      },
      "execution_count": 20,
      "outputs": [
        {
          "output_type": "execute_result",
          "data": {
            "text/plain": [
              "          status   age sex  on_thyroxine  query_on_thyroxine  \\\n",
              "53   hypothyroid  69.0   F             0                   0   \n",
              "66   hypothyroid  62.0   M             0                   0   \n",
              "124  hypothyroid  77.0   F             0                   0   \n",
              "128  hypothyroid  79.0   F             0                   0   \n",
              "131  hypothyroid  50.0   F             1                   0   \n",
              "\n",
              "     on_antithyroid_medication  thyroid_surgery  query_hypothyroid  \\\n",
              "53                           0                0                  0   \n",
              "66                           0                0                  0   \n",
              "124                          0                0                  0   \n",
              "128                          0                0                  0   \n",
              "131                          0                0                  0   \n",
              "\n",
              "     query_hyperthyroid  pregnant  ...  TSH_measured    TSH  T3_measured  \\\n",
              "53                    0         0  ...             y   21.0            y   \n",
              "66                    0         0  ...             y  100.0            y   \n",
              "124                   0         0  ...             y   23.0            y   \n",
              "128                   0         0  ...             y   29.0            y   \n",
              "131                   0         0  ...             y   34.0            n   \n",
              "\n",
              "           T3 TT4_measured   TT4 T4U_measured   T4U FTI_measured   FTI  \n",
              "53   0.800000            y  53.0            y  0.86            y  61.0  \n",
              "66   0.400000            y  10.0            y  1.00            y  10.0  \n",
              "124  0.500000            y  33.0            y  0.67            y  49.0  \n",
              "128  1.600000            y  47.0            y  0.97            y  48.0  \n",
              "131  1.939749            y  55.0            y  0.93            y  60.0  \n",
              "\n",
              "[5 rows x 24 columns]"
            ],
            "text/html": [
              "\n",
              "  <div id=\"df-b81cdb49-291d-4ae8-b17c-3c79ad02beb2\">\n",
              "    <div class=\"colab-df-container\">\n",
              "      <div>\n",
              "<style scoped>\n",
              "    .dataframe tbody tr th:only-of-type {\n",
              "        vertical-align: middle;\n",
              "    }\n",
              "\n",
              "    .dataframe tbody tr th {\n",
              "        vertical-align: top;\n",
              "    }\n",
              "\n",
              "    .dataframe thead th {\n",
              "        text-align: right;\n",
              "    }\n",
              "</style>\n",
              "<table border=\"1\" class=\"dataframe\">\n",
              "  <thead>\n",
              "    <tr style=\"text-align: right;\">\n",
              "      <th></th>\n",
              "      <th>status</th>\n",
              "      <th>age</th>\n",
              "      <th>sex</th>\n",
              "      <th>on_thyroxine</th>\n",
              "      <th>query_on_thyroxine</th>\n",
              "      <th>on_antithyroid_medication</th>\n",
              "      <th>thyroid_surgery</th>\n",
              "      <th>query_hypothyroid</th>\n",
              "      <th>query_hyperthyroid</th>\n",
              "      <th>pregnant</th>\n",
              "      <th>...</th>\n",
              "      <th>TSH_measured</th>\n",
              "      <th>TSH</th>\n",
              "      <th>T3_measured</th>\n",
              "      <th>T3</th>\n",
              "      <th>TT4_measured</th>\n",
              "      <th>TT4</th>\n",
              "      <th>T4U_measured</th>\n",
              "      <th>T4U</th>\n",
              "      <th>FTI_measured</th>\n",
              "      <th>FTI</th>\n",
              "    </tr>\n",
              "  </thead>\n",
              "  <tbody>\n",
              "    <tr>\n",
              "      <th>53</th>\n",
              "      <td>hypothyroid</td>\n",
              "      <td>69.0</td>\n",
              "      <td>F</td>\n",
              "      <td>0</td>\n",
              "      <td>0</td>\n",
              "      <td>0</td>\n",
              "      <td>0</td>\n",
              "      <td>0</td>\n",
              "      <td>0</td>\n",
              "      <td>0</td>\n",
              "      <td>...</td>\n",
              "      <td>y</td>\n",
              "      <td>21.0</td>\n",
              "      <td>y</td>\n",
              "      <td>0.800000</td>\n",
              "      <td>y</td>\n",
              "      <td>53.0</td>\n",
              "      <td>y</td>\n",
              "      <td>0.86</td>\n",
              "      <td>y</td>\n",
              "      <td>61.0</td>\n",
              "    </tr>\n",
              "    <tr>\n",
              "      <th>66</th>\n",
              "      <td>hypothyroid</td>\n",
              "      <td>62.0</td>\n",
              "      <td>M</td>\n",
              "      <td>0</td>\n",
              "      <td>0</td>\n",
              "      <td>0</td>\n",
              "      <td>0</td>\n",
              "      <td>0</td>\n",
              "      <td>0</td>\n",
              "      <td>0</td>\n",
              "      <td>...</td>\n",
              "      <td>y</td>\n",
              "      <td>100.0</td>\n",
              "      <td>y</td>\n",
              "      <td>0.400000</td>\n",
              "      <td>y</td>\n",
              "      <td>10.0</td>\n",
              "      <td>y</td>\n",
              "      <td>1.00</td>\n",
              "      <td>y</td>\n",
              "      <td>10.0</td>\n",
              "    </tr>\n",
              "    <tr>\n",
              "      <th>124</th>\n",
              "      <td>hypothyroid</td>\n",
              "      <td>77.0</td>\n",
              "      <td>F</td>\n",
              "      <td>0</td>\n",
              "      <td>0</td>\n",
              "      <td>0</td>\n",
              "      <td>0</td>\n",
              "      <td>0</td>\n",
              "      <td>0</td>\n",
              "      <td>0</td>\n",
              "      <td>...</td>\n",
              "      <td>y</td>\n",
              "      <td>23.0</td>\n",
              "      <td>y</td>\n",
              "      <td>0.500000</td>\n",
              "      <td>y</td>\n",
              "      <td>33.0</td>\n",
              "      <td>y</td>\n",
              "      <td>0.67</td>\n",
              "      <td>y</td>\n",
              "      <td>49.0</td>\n",
              "    </tr>\n",
              "    <tr>\n",
              "      <th>128</th>\n",
              "      <td>hypothyroid</td>\n",
              "      <td>79.0</td>\n",
              "      <td>F</td>\n",
              "      <td>0</td>\n",
              "      <td>0</td>\n",
              "      <td>0</td>\n",
              "      <td>0</td>\n",
              "      <td>0</td>\n",
              "      <td>0</td>\n",
              "      <td>0</td>\n",
              "      <td>...</td>\n",
              "      <td>y</td>\n",
              "      <td>29.0</td>\n",
              "      <td>y</td>\n",
              "      <td>1.600000</td>\n",
              "      <td>y</td>\n",
              "      <td>47.0</td>\n",
              "      <td>y</td>\n",
              "      <td>0.97</td>\n",
              "      <td>y</td>\n",
              "      <td>48.0</td>\n",
              "    </tr>\n",
              "    <tr>\n",
              "      <th>131</th>\n",
              "      <td>hypothyroid</td>\n",
              "      <td>50.0</td>\n",
              "      <td>F</td>\n",
              "      <td>1</td>\n",
              "      <td>0</td>\n",
              "      <td>0</td>\n",
              "      <td>0</td>\n",
              "      <td>0</td>\n",
              "      <td>0</td>\n",
              "      <td>0</td>\n",
              "      <td>...</td>\n",
              "      <td>y</td>\n",
              "      <td>34.0</td>\n",
              "      <td>n</td>\n",
              "      <td>1.939749</td>\n",
              "      <td>y</td>\n",
              "      <td>55.0</td>\n",
              "      <td>y</td>\n",
              "      <td>0.93</td>\n",
              "      <td>y</td>\n",
              "      <td>60.0</td>\n",
              "    </tr>\n",
              "  </tbody>\n",
              "</table>\n",
              "<p>5 rows × 24 columns</p>\n",
              "</div>\n",
              "      <button class=\"colab-df-convert\" onclick=\"convertToInteractive('df-b81cdb49-291d-4ae8-b17c-3c79ad02beb2')\"\n",
              "              title=\"Convert this dataframe to an interactive table.\"\n",
              "              style=\"display:none;\">\n",
              "        \n",
              "  <svg xmlns=\"http://www.w3.org/2000/svg\" height=\"24px\"viewBox=\"0 0 24 24\"\n",
              "       width=\"24px\">\n",
              "    <path d=\"M0 0h24v24H0V0z\" fill=\"none\"/>\n",
              "    <path d=\"M18.56 5.44l.94 2.06.94-2.06 2.06-.94-2.06-.94-.94-2.06-.94 2.06-2.06.94zm-11 1L8.5 8.5l.94-2.06 2.06-.94-2.06-.94L8.5 2.5l-.94 2.06-2.06.94zm10 10l.94 2.06.94-2.06 2.06-.94-2.06-.94-.94-2.06-.94 2.06-2.06.94z\"/><path d=\"M17.41 7.96l-1.37-1.37c-.4-.4-.92-.59-1.43-.59-.52 0-1.04.2-1.43.59L10.3 9.45l-7.72 7.72c-.78.78-.78 2.05 0 2.83L4 21.41c.39.39.9.59 1.41.59.51 0 1.02-.2 1.41-.59l7.78-7.78 2.81-2.81c.8-.78.8-2.07 0-2.86zM5.41 20L4 18.59l7.72-7.72 1.47 1.35L5.41 20z\"/>\n",
              "  </svg>\n",
              "      </button>\n",
              "      \n",
              "  <style>\n",
              "    .colab-df-container {\n",
              "      display:flex;\n",
              "      flex-wrap:wrap;\n",
              "      gap: 12px;\n",
              "    }\n",
              "\n",
              "    .colab-df-convert {\n",
              "      background-color: #E8F0FE;\n",
              "      border: none;\n",
              "      border-radius: 50%;\n",
              "      cursor: pointer;\n",
              "      display: none;\n",
              "      fill: #1967D2;\n",
              "      height: 32px;\n",
              "      padding: 0 0 0 0;\n",
              "      width: 32px;\n",
              "    }\n",
              "\n",
              "    .colab-df-convert:hover {\n",
              "      background-color: #E2EBFA;\n",
              "      box-shadow: 0px 1px 2px rgba(60, 64, 67, 0.3), 0px 1px 3px 1px rgba(60, 64, 67, 0.15);\n",
              "      fill: #174EA6;\n",
              "    }\n",
              "\n",
              "    [theme=dark] .colab-df-convert {\n",
              "      background-color: #3B4455;\n",
              "      fill: #D2E3FC;\n",
              "    }\n",
              "\n",
              "    [theme=dark] .colab-df-convert:hover {\n",
              "      background-color: #434B5C;\n",
              "      box-shadow: 0px 1px 3px 1px rgba(0, 0, 0, 0.15);\n",
              "      filter: drop-shadow(0px 1px 2px rgba(0, 0, 0, 0.3));\n",
              "      fill: #FFFFFF;\n",
              "    }\n",
              "  </style>\n",
              "\n",
              "      <script>\n",
              "        const buttonEl =\n",
              "          document.querySelector('#df-b81cdb49-291d-4ae8-b17c-3c79ad02beb2 button.colab-df-convert');\n",
              "        buttonEl.style.display =\n",
              "          google.colab.kernel.accessAllowed ? 'block' : 'none';\n",
              "\n",
              "        async function convertToInteractive(key) {\n",
              "          const element = document.querySelector('#df-b81cdb49-291d-4ae8-b17c-3c79ad02beb2');\n",
              "          const dataTable =\n",
              "            await google.colab.kernel.invokeFunction('convertToInteractive',\n",
              "                                                     [key], {});\n",
              "          if (!dataTable) return;\n",
              "\n",
              "          const docLinkHtml = 'Like what you see? Visit the ' +\n",
              "            '<a target=\"_blank\" href=https://colab.research.google.com/notebooks/data_table.ipynb>data table notebook</a>'\n",
              "            + ' to learn more about interactive tables.';\n",
              "          element.innerHTML = '';\n",
              "          dataTable['output_type'] = 'display_data';\n",
              "          await google.colab.output.renderOutput(dataTable, element);\n",
              "          const docLink = document.createElement('div');\n",
              "          docLink.innerHTML = docLinkHtml;\n",
              "          element.appendChild(docLink);\n",
              "        }\n",
              "      </script>\n",
              "    </div>\n",
              "  </div>\n",
              "  "
            ]
          },
          "metadata": {},
          "execution_count": 20
        }
      ]
    },
    {
      "cell_type": "code",
      "source": [
        "# Removing duplicates\n",
        "# Keeping every first data point of the duplicated datapoints\n",
        "#\n",
        "tsh.drop_duplicates(keep='first', inplace = True)\n",
        "\n",
        "# Checking to confirm whether duplicates have been dropped\n",
        "#\n",
        "tsh.duplicated().any()"
      ],
      "metadata": {
        "colab": {
          "base_uri": "https://localhost:8080/"
        },
        "id": "mV7HbMMTk1sm",
        "outputId": "d2ce3d1a-4d63-499c-88b3-58b026881dd6"
      },
      "execution_count": 21,
      "outputs": [
        {
          "output_type": "execute_result",
          "data": {
            "text/plain": [
              "False"
            ]
          },
          "metadata": {},
          "execution_count": 21
        }
      ]
    },
    {
      "cell_type": "markdown",
      "source": [
        "**5. Uniformity check**"
      ],
      "metadata": {
        "id": "J5g-RvtzcXap"
      }
    },
    {
      "cell_type": "code",
      "source": [
        "tsh.columns"
      ],
      "metadata": {
        "colab": {
          "base_uri": "https://localhost:8080/"
        },
        "id": "vVPzAYIymnaX",
        "outputId": "c8fe204f-50d0-45d0-9692-6b2d10b2dbaf"
      },
      "execution_count": 22,
      "outputs": [
        {
          "output_type": "execute_result",
          "data": {
            "text/plain": [
              "Index(['status', 'age', 'sex', 'on_thyroxine', 'query_on_thyroxine',\n",
              "       'on_antithyroid_medication', 'thyroid_surgery', 'query_hypothyroid',\n",
              "       'query_hyperthyroid', 'pregnant', 'sick', 'tumor', 'lithium', 'goitre',\n",
              "       'TSH_measured', 'TSH', 'T3_measured', 'T3', 'TT4_measured', 'TT4',\n",
              "       'T4U_measured', 'T4U', 'FTI_measured', 'FTI'],\n",
              "      dtype='object')"
            ]
          },
          "metadata": {},
          "execution_count": 22
        }
      ]
    },
    {
      "cell_type": "code",
      "source": [
        "#checking for outliers\n",
        "num_cols = ['age', 'TSH', 'T3', 'TT4', 'T4U', 'FTI']\n",
        "\n",
        "fig, axes = plt.subplots(nrows = 2, ncols = 2, figsize = (15, 10))\n",
        "plt.suptitle('Checking for outliers with tumor using boxplots', fontsize = 15, y = 0.95, color = 'purple')\n",
        "for ax, data, column in zip(axes.flatten(), tsh, num_cols):\n",
        "  sns.boxplot(tsh.tumor, tsh[column], ax = ax, hue = tsh.sex, palette = 'Set1')\n",
        "  ax.set_facecolor('thistle') "
      ],
      "metadata": {
        "colab": {
          "base_uri": "https://localhost:8080/",
          "height": 656
        },
        "id": "lTutWqNPcZCB",
        "outputId": "604be2bc-810f-4570-cabd-f4d68aef05e2"
      },
      "execution_count": 23,
      "outputs": [
        {
          "output_type": "display_data",
          "data": {
            "text/plain": [
              "<Figure size 1080x720 with 4 Axes>"
            ],
            "image/png": "[encoded data removed]"
          },
          "metadata": {
            "needs_background": "light"
          }
        }
      ]
    },
    {
      "cell_type": "markdown",
      "source": [
        "we can see:\n",
        "* There is are no outliers in the age column\n",
        "* The TSH column has the most outliers when compared with t3 and tt4, when tumor diagnosis is negative\n",
        "* Across the t3, tt4 and tsh columns, outliers are more pronounced when diagnosis for tumor is negative"
      ],
      "metadata": {
        "id": "6jRvpHDCodSN"
      }
    },
    {
      "cell_type": "code",
      "source": [
        "# Plotting boxplots to check for outliers\n",
        "#\n",
        "fig, axes = plt.subplots(nrows = 2, ncols = 2, figsize = (15, 10))\n",
        "plt.suptitle('Checking for outliers with Status using boxplots', fontsize = 15, y = 0.95, color = 'midnightblue')\n",
        "for ax, data, column in zip(axes.flatten(), tsh, num_cols):\n",
        "  sns.boxplot(tsh.status, tsh[column], ax = ax, hue = tsh.sex, palette = 'rainbow')\n",
        "  ax.set_facecolor('powderblue') "
      ],
      "metadata": {
        "colab": {
          "base_uri": "https://localhost:8080/",
          "height": 656
        },
        "id": "LrP-_Xswo8ub",
        "outputId": "f4517723-0b01-42b0-e5dc-187b19c60c2e"
      },
      "execution_count": 24,
      "outputs": [
        {
          "output_type": "display_data",
          "data": {
            "text/plain": [
              "<Figure size 1080x720 with 4 Axes>"
            ],
            "image/png": "[encoded data removed]"
          },
          "metadata": {
            "needs_background": "light"
          }
        }
      ]
    },
    {
      "cell_type": "markdown",
      "source": [
        "* Age distribution is approximately the same irrespective of whether a person has hypothyroid or not\n",
        "* The tsh column has the most outliers when compared with t3 and tt4, when hypothyroid diagnosis is positive\n",
        "* Across the t3, tt4 columns, outliers are more pronounced when diagnosis for hypothyroid is negative"
      ],
      "metadata": {
        "id": "61e94OFgpY6o"
      }
    },
    {
      "cell_type": "markdown",
      "source": [
        "# **EXPLORATORY DATA ANALYSIS**"
      ],
      "metadata": {
        "id": "uwNB5RCkcdGr"
      }
    },
    {
      "cell_type": "markdown",
      "source": [
        "**1. Univarite Analysis**"
      ],
      "metadata": {
        "id": "MWX8IBqrcnb1"
      }
    },
    {
      "cell_type": "code",
      "source": [
        "#Age distplot\n",
        "sns.distplot(tsh['age'],  kde=False,label='Age')"
      ],
      "metadata": {
        "colab": {
          "base_uri": "https://localhost:8080/",
          "height": 297
        },
        "id": "FXjPPJXjcivA",
        "outputId": "828786f5-0357-45a4-d0fa-ea04d9669940"
      },
      "execution_count": 25,
      "outputs": [
        {
          "output_type": "execute_result",
          "data": {
            "text/plain": [
              "<matplotlib.axes._subplots.AxesSubplot at 0x7f52f344d790>"
            ]
          },
          "metadata": {},
          "execution_count": 25
        },
        {
          "output_type": "display_data",
          "data": {
            "text/plain": [
              "<Figure size 432x288 with 1 Axes>"
            ],
            "image/png": "[encoded data removed]"
          },
          "metadata": {
            "needs_background": "light"
          }
        }
      ]
    },
    {
      "cell_type": "markdown",
      "source": [
        "Most of the people who attended the camp had an age range of 20 to 85 with age 50 having the highest number of attendee"
      ],
      "metadata": {
        "id": "777PRRfttChC"
      }
    },
    {
      "cell_type": "code",
      "source": [
        "#Gender distplot\n",
        "sns.histplot(tsh['sex'])"
      ],
      "metadata": {
        "colab": {
          "base_uri": "https://localhost:8080/",
          "height": 297
        },
        "id": "8I22kZCYtbDy",
        "outputId": "cc3cedd6-5af5-4d9f-dd4d-6cf674d1811d"
      },
      "execution_count": 26,
      "outputs": [
        {
          "output_type": "execute_result",
          "data": {
            "text/plain": [
              "<matplotlib.axes._subplots.AxesSubplot at 0x7f52f33943d0>"
            ]
          },
          "metadata": {},
          "execution_count": 26
        },
        {
          "output_type": "display_data",
          "data": {
            "text/plain": [
              "<Figure size 432x288 with 1 Axes>"
            ],
            "image/png": "[encoded data removed]"
          },
          "metadata": {
            "needs_background": "light"
          }
        }
      ]
    },
    {
      "cell_type": "markdown",
      "source": [
        "More females showed up compared to men"
      ],
      "metadata": {
        "id": "Rns34cuPtyiy"
      }
    },
    {
      "cell_type": "code",
      "source": [
        "#Status distplot\n",
        "sns.histplot(tsh['status'])"
      ],
      "metadata": {
        "colab": {
          "base_uri": "https://localhost:8080/",
          "height": 301
        },
        "id": "x39qCGwWt6Gz",
        "outputId": "908671dd-f529-4eb9-a082-a3a75513dc1c"
      },
      "execution_count": 27,
      "outputs": [
        {
          "output_type": "execute_result",
          "data": {
            "text/plain": [
              "<matplotlib.axes._subplots.AxesSubplot at 0x7f52f333f310>"
            ]
          },
          "metadata": {},
          "execution_count": 27
        },
        {
          "output_type": "display_data",
          "data": {
            "text/plain": [
              "<Figure size 432x288 with 1 Axes>"
            ],
            "image/png": "[encoded data removed]"
          },
          "metadata": {
            "needs_background": "light"
          }
        }
      ]
    },
    {
      "cell_type": "markdown",
      "source": [
        "Among the attendees most of them had a negative outcome"
      ],
      "metadata": {
        "id": "KsuIMomwt_1R"
      }
    },
    {
      "cell_type": "markdown",
      "source": [
        "**2. Bivariate Analysis**"
      ],
      "metadata": {
        "id": "FUWUvPfccpcG"
      }
    },
    {
      "cell_type": "code",
      "source": [
        "# Visual comparison of gender versus status\n",
        "#\n",
        "sns.catplot(\"status\", col=\"sex\", col_wrap=4, data=tsh, kind=\"count\", height=6, aspect=.8, palette='Set1')\n",
        "plt.show()"
      ],
      "metadata": {
        "colab": {
          "base_uri": "https://localhost:8080/",
          "height": 441
        },
        "id": "QnpAMBwwcsoA",
        "outputId": "6276c737-e3dd-44a4-ba72-ff5ca7621eeb"
      },
      "execution_count": 28,
      "outputs": [
        {
          "output_type": "display_data",
          "data": {
            "text/plain": [
              "<Figure size 1382.4x432 with 2 Axes>"
            ],
            "image/png": "[encoded data removed]"
          },
          "metadata": {
            "needs_background": "light"
          }
        }
      ]
    },
    {
      "cell_type": "markdown",
      "source": [
        "There were more female and also most of the positive diagnosis was from females too"
      ],
      "metadata": {
        "id": "12CHIbjwuqMo"
      }
    },
    {
      "cell_type": "code",
      "source": [
        "# Plotting histogram to show distribution of age per gender\n",
        "# \n",
        "male = tsh.loc[tsh.sex=='M', 'age']    # Selecting only male datapoints in the age column\n",
        "female = tsh.loc[tsh.sex=='F', 'age']  # Selecting only female datapoints in the age column\n",
        "\n",
        "# Creating a dictionary containing opacaticy and line width in a dictionary for efficiency\n",
        "#\n",
        "dfg = dict(hist_kws={'alpha':.6}, kde_kws={'linewidth':2})\n",
        "\n",
        "# Plotting the histograms\n",
        "#\n",
        "plt.figure(figsize=(12,7), dpi= 80)\n",
        "sns.distplot(male, color=\"darkgreen\", label=\"Male\", **dfg)\n",
        "sns.distplot(female, color=\"fuchsia\", label=\"Female\", **dfg)\n",
        "plt.title('Distribution of age per gender', fontsize = 14, color = 'purple')\n",
        "plt.xlabel('age', fontsize = 13, color = 'purple')\n",
        "plt.ylabel('Frequency', fontsize = 13, color = 'purple')\n",
        "plt.legend()\n",
        "plt.show()"
      ],
      "metadata": {
        "colab": {
          "base_uri": "https://localhost:8080/",
          "height": 510
        },
        "id": "rLReNr6Du7mH",
        "outputId": "e88fe909-b1ad-4f7d-d825-31abb14abb3b"
      },
      "execution_count": 29,
      "outputs": [
        {
          "output_type": "display_data",
          "data": {
            "text/plain": [
              "<Figure size 960x560 with 1 Axes>"
            ],
            "image/png": "[encoded data removed]"
          },
          "metadata": {
            "needs_background": "light"
          }
        }
      ]
    },
    {
      "cell_type": "markdown",
      "source": [
        "More females than males in total, however more males from the age of 50 compared to females of same age"
      ],
      "metadata": {
        "id": "eyvFmoO4vSNj"
      }
    },
    {
      "cell_type": "markdown",
      "source": [
        "**3. Multivariate Analysis**"
      ],
      "metadata": {
        "id": "8g-1Bzr9ctNV"
      }
    },
    {
      "cell_type": "code",
      "source": [
        "tsh.columns"
      ],
      "metadata": {
        "colab": {
          "base_uri": "https://localhost:8080/"
        },
        "id": "dERfXHoIxyKk",
        "outputId": "44e8d3fa-5e14-4b08-844a-fea2b5b6484b"
      },
      "execution_count": 30,
      "outputs": [
        {
          "output_type": "execute_result",
          "data": {
            "text/plain": [
              "Index(['status', 'age', 'sex', 'on_thyroxine', 'query_on_thyroxine',\n",
              "       'on_antithyroid_medication', 'thyroid_surgery', 'query_hypothyroid',\n",
              "       'query_hyperthyroid', 'pregnant', 'sick', 'tumor', 'lithium', 'goitre',\n",
              "       'TSH_measured', 'TSH', 'T3_measured', 'T3', 'TT4_measured', 'TT4',\n",
              "       'T4U_measured', 'T4U', 'FTI_measured', 'FTI'],\n",
              "      dtype='object')"
            ]
          },
          "metadata": {},
          "execution_count": 30
        }
      ]
    },
    {
      "cell_type": "code",
      "source": [
        "tsh.describe().transpose()"
      ],
      "metadata": {
        "colab": {
          "base_uri": "https://localhost:8080/",
          "height": 582
        },
        "id": "l9jzR_lr0mn0",
        "outputId": "50fae5e3-0689-4158-da54-bd56afcee91e"
      },
      "execution_count": 31,
      "outputs": [
        {
          "output_type": "execute_result",
          "data": {
            "text/plain": [
              "                            count        mean        std  min    25%  \\\n",
              "age                        3007.0   51.350030  17.864731  1.0  38.00   \n",
              "on_thyroxine               3007.0    0.148321   0.355477  0.0   0.00   \n",
              "query_on_thyroxine         3007.0    0.018291   0.134023  0.0   0.00   \n",
              "on_antithyroid_medication  3007.0    0.013967   0.117375  0.0   0.00   \n",
              "thyroid_surgery            3007.0    0.034253   0.181910  0.0   0.00   \n",
              "query_hypothyroid          3007.0    0.078151   0.268454  0.0   0.00   \n",
              "query_hyperthyroid         3007.0    0.075491   0.264225  0.0   0.00   \n",
              "pregnant                   3007.0    0.020286   0.141000  0.0   0.00   \n",
              "sick                       3007.0    0.032258   0.176714  0.0   0.00   \n",
              "tumor                      3007.0    0.013302   0.114585  0.0   0.00   \n",
              "lithium                    3007.0    0.000665   0.025786  0.0   0.00   \n",
              "goitre                     3007.0    0.031593   0.174943  0.0   0.00   \n",
              "TSH                        3007.0    5.823557  22.470602  0.0   0.00   \n",
              "T3                         3007.0    1.934882   0.876120  0.0   1.50   \n",
              "TT4                        3007.0  108.714583  43.395720  2.0  85.00   \n",
              "T4U                        3007.0    0.977593   0.219705  0.0   0.86   \n",
              "FTI                        3007.0  115.484252  58.535310  0.0  92.00   \n",
              "\n",
              "                                  50%     75%     max  \n",
              "age                         51.154214   64.00   98.00  \n",
              "on_thyroxine                 0.000000    0.00    1.00  \n",
              "query_on_thyroxine           0.000000    0.00    1.00  \n",
              "on_antithyroid_medication    0.000000    0.00    1.00  \n",
              "thyroid_surgery              0.000000    0.00    1.00  \n",
              "query_hypothyroid            0.000000    0.00    1.00  \n",
              "query_hyperthyroid           0.000000    0.00    1.00  \n",
              "pregnant                     0.000000    0.00    1.00  \n",
              "sick                         0.000000    0.00    1.00  \n",
              "tumor                        0.000000    0.00    1.00  \n",
              "lithium                      0.000000    0.00    1.00  \n",
              "goitre                       0.000000    0.00    1.00  \n",
              "TSH                          1.000000    5.30  530.00  \n",
              "T3                           1.939749    2.20   10.20  \n",
              "TT4                        106.000000  125.00  450.00  \n",
              "T4U                          0.970000    1.06    2.21  \n",
              "FTI                        109.000000  126.00  881.00  "
            ],
            "text/html": [
              "\n",
              "  <div id=\"df-e092aca5-3c39-4d6e-9238-77db28fbaa2f\">\n",
              "    <div class=\"colab-df-container\">\n",
              "      <div>\n",
              "<style scoped>\n",
              "    .dataframe tbody tr th:only-of-type {\n",
              "        vertical-align: middle;\n",
              "    }\n",
              "\n",
              "    .dataframe tbody tr th {\n",
              "        vertical-align: top;\n",
              "    }\n",
              "\n",
              "    .dataframe thead th {\n",
              "        text-align: right;\n",
              "    }\n",
              "</style>\n",
              "<table border=\"1\" class=\"dataframe\">\n",
              "  <thead>\n",
              "    <tr style=\"text-align: right;\">\n",
              "      <th></th>\n",
              "      <th>count</th>\n",
              "      <th>mean</th>\n",
              "      <th>std</th>\n",
              "      <th>min</th>\n",
              "      <th>25%</th>\n",
              "      <th>50%</th>\n",
              "      <th>75%</th>\n",
              "      <th>max</th>\n",
              "    </tr>\n",
              "  </thead>\n",
              "  <tbody>\n",
              "    <tr>\n",
              "      <th>age</th>\n",
              "      <td>3007.0</td>\n",
              "      <td>51.350030</td>\n",
              "      <td>17.864731</td>\n",
              "      <td>1.0</td>\n",
              "      <td>38.00</td>\n",
              "      <td>51.154214</td>\n",
              "      <td>64.00</td>\n",
              "      <td>98.00</td>\n",
              "    </tr>\n",
              "    <tr>\n",
              "      <th>on_thyroxine</th>\n",
              "      <td>3007.0</td>\n",
              "      <td>0.148321</td>\n",
              "      <td>0.355477</td>\n",
              "      <td>0.0</td>\n",
              "      <td>0.00</td>\n",
              "      <td>0.000000</td>\n",
              "      <td>0.00</td>\n",
              "      <td>1.00</td>\n",
              "    </tr>\n",
              "    <tr>\n",
              "      <th>query_on_thyroxine</th>\n",
              "      <td>3007.0</td>\n",
              "      <td>0.018291</td>\n",
              "      <td>0.134023</td>\n",
              "      <td>0.0</td>\n",
              "      <td>0.00</td>\n",
              "      <td>0.000000</td>\n",
              "      <td>0.00</td>\n",
              "      <td>1.00</td>\n",
              "    </tr>\n",
              "    <tr>\n",
              "      <th>on_antithyroid_medication</th>\n",
              "      <td>3007.0</td>\n",
              "      <td>0.013967</td>\n",
              "      <td>0.117375</td>\n",
              "      <td>0.0</td>\n",
              "      <td>0.00</td>\n",
              "      <td>0.000000</td>\n",
              "      <td>0.00</td>\n",
              "      <td>1.00</td>\n",
              "    </tr>\n",
              "    <tr>\n",
              "      <th>thyroid_surgery</th>\n",
              "      <td>3007.0</td>\n",
              "      <td>0.034253</td>\n",
              "      <td>0.181910</td>\n",
              "      <td>0.0</td>\n",
              "      <td>0.00</td>\n",
              "      <td>0.000000</td>\n",
              "      <td>0.00</td>\n",
              "      <td>1.00</td>\n",
              "    </tr>\n",
              "    <tr>\n",
              "      <th>query_hypothyroid</th>\n",
              "      <td>3007.0</td>\n",
              "      <td>0.078151</td>\n",
              "      <td>0.268454</td>\n",
              "      <td>0.0</td>\n",
              "      <td>0.00</td>\n",
              "      <td>0.000000</td>\n",
              "      <td>0.00</td>\n",
              "      <td>1.00</td>\n",
              "    </tr>\n",
              "    <tr>\n",
              "      <th>query_hyperthyroid</th>\n",
              "      <td>3007.0</td>\n",
              "      <td>0.075491</td>\n",
              "      <td>0.264225</td>\n",
              "      <td>0.0</td>\n",
              "      <td>0.00</td>\n",
              "      <td>0.000000</td>\n",
              "      <td>0.00</td>\n",
              "      <td>1.00</td>\n",
              "    </tr>\n",
              "    <tr>\n",
              "      <th>pregnant</th>\n",
              "      <td>3007.0</td>\n",
              "      <td>0.020286</td>\n",
              "      <td>0.141000</td>\n",
              "      <td>0.0</td>\n",
              "      <td>0.00</td>\n",
              "      <td>0.000000</td>\n",
              "      <td>0.00</td>\n",
              "      <td>1.00</td>\n",
              "    </tr>\n",
              "    <tr>\n",
              "      <th>sick</th>\n",
              "      <td>3007.0</td>\n",
              "      <td>0.032258</td>\n",
              "      <td>0.176714</td>\n",
              "      <td>0.0</td>\n",
              "      <td>0.00</td>\n",
              "      <td>0.000000</td>\n",
              "      <td>0.00</td>\n",
              "      <td>1.00</td>\n",
              "    </tr>\n",
              "    <tr>\n",
              "      <th>tumor</th>\n",
              "      <td>3007.0</td>\n",
              "      <td>0.013302</td>\n",
              "      <td>0.114585</td>\n",
              "      <td>0.0</td>\n",
              "      <td>0.00</td>\n",
              "      <td>0.000000</td>\n",
              "      <td>0.00</td>\n",
              "      <td>1.00</td>\n",
              "    </tr>\n",
              "    <tr>\n",
              "      <th>lithium</th>\n",
              "      <td>3007.0</td>\n",
              "      <td>0.000665</td>\n",
              "      <td>0.025786</td>\n",
              "      <td>0.0</td>\n",
              "      <td>0.00</td>\n",
              "      <td>0.000000</td>\n",
              "      <td>0.00</td>\n",
              "      <td>1.00</td>\n",
              "    </tr>\n",
              "    <tr>\n",
              "      <th>goitre</th>\n",
              "      <td>3007.0</td>\n",
              "      <td>0.031593</td>\n",
              "      <td>0.174943</td>\n",
              "      <td>0.0</td>\n",
              "      <td>0.00</td>\n",
              "      <td>0.000000</td>\n",
              "      <td>0.00</td>\n",
              "      <td>1.00</td>\n",
              "    </tr>\n",
              "    <tr>\n",
              "      <th>TSH</th>\n",
              "      <td>3007.0</td>\n",
              "      <td>5.823557</td>\n",
              "      <td>22.470602</td>\n",
              "      <td>0.0</td>\n",
              "      <td>0.00</td>\n",
              "      <td>1.000000</td>\n",
              "      <td>5.30</td>\n",
              "      <td>530.00</td>\n",
              "    </tr>\n",
              "    <tr>\n",
              "      <th>T3</th>\n",
              "      <td>3007.0</td>\n",
              "      <td>1.934882</td>\n",
              "      <td>0.876120</td>\n",
              "      <td>0.0</td>\n",
              "      <td>1.50</td>\n",
              "      <td>1.939749</td>\n",
              "      <td>2.20</td>\n",
              "      <td>10.20</td>\n",
              "    </tr>\n",
              "    <tr>\n",
              "      <th>TT4</th>\n",
              "      <td>3007.0</td>\n",
              "      <td>108.714583</td>\n",
              "      <td>43.395720</td>\n",
              "      <td>2.0</td>\n",
              "      <td>85.00</td>\n",
              "      <td>106.000000</td>\n",
              "      <td>125.00</td>\n",
              "      <td>450.00</td>\n",
              "    </tr>\n",
              "    <tr>\n",
              "      <th>T4U</th>\n",
              "      <td>3007.0</td>\n",
              "      <td>0.977593</td>\n",
              "      <td>0.219705</td>\n",
              "      <td>0.0</td>\n",
              "      <td>0.86</td>\n",
              "      <td>0.970000</td>\n",
              "      <td>1.06</td>\n",
              "      <td>2.21</td>\n",
              "    </tr>\n",
              "    <tr>\n",
              "      <th>FTI</th>\n",
              "      <td>3007.0</td>\n",
              "      <td>115.484252</td>\n",
              "      <td>58.535310</td>\n",
              "      <td>0.0</td>\n",
              "      <td>92.00</td>\n",
              "      <td>109.000000</td>\n",
              "      <td>126.00</td>\n",
              "      <td>881.00</td>\n",
              "    </tr>\n",
              "  </tbody>\n",
              "</table>\n",
              "</div>\n",
              "      <button class=\"colab-df-convert\" onclick=\"convertToInteractive('df-e092aca5-3c39-4d6e-9238-77db28fbaa2f')\"\n",
              "              title=\"Convert this dataframe to an interactive table.\"\n",
              "              style=\"display:none;\">\n",
              "        \n",
              "  <svg xmlns=\"http://www.w3.org/2000/svg\" height=\"24px\"viewBox=\"0 0 24 24\"\n",
              "       width=\"24px\">\n",
              "    <path d=\"M0 0h24v24H0V0z\" fill=\"none\"/>\n",
              "    <path d=\"M18.56 5.44l.94 2.06.94-2.06 2.06-.94-2.06-.94-.94-2.06-.94 2.06-2.06.94zm-11 1L8.5 8.5l.94-2.06 2.06-.94-2.06-.94L8.5 2.5l-.94 2.06-2.06.94zm10 10l.94 2.06.94-2.06 2.06-.94-2.06-.94-.94-2.06-.94 2.06-2.06.94z\"/><path d=\"M17.41 7.96l-1.37-1.37c-.4-.4-.92-.59-1.43-.59-.52 0-1.04.2-1.43.59L10.3 9.45l-7.72 7.72c-.78.78-.78 2.05 0 2.83L4 21.41c.39.39.9.59 1.41.59.51 0 1.02-.2 1.41-.59l7.78-7.78 2.81-2.81c.8-.78.8-2.07 0-2.86zM5.41 20L4 18.59l7.72-7.72 1.47 1.35L5.41 20z\"/>\n",
              "  </svg>\n",
              "      </button>\n",
              "      \n",
              "  <style>\n",
              "    .colab-df-container {\n",
              "      display:flex;\n",
              "      flex-wrap:wrap;\n",
              "      gap: 12px;\n",
              "    }\n",
              "\n",
              "    .colab-df-convert {\n",
              "      background-color: #E8F0FE;\n",
              "      border: none;\n",
              "      border-radius: 50%;\n",
              "      cursor: pointer;\n",
              "      display: none;\n",
              "      fill: #1967D2;\n",
              "      height: 32px;\n",
              "      padding: 0 0 0 0;\n",
              "      width: 32px;\n",
              "    }\n",
              "\n",
              "    .colab-df-convert:hover {\n",
              "      background-color: #E2EBFA;\n",
              "      box-shadow: 0px 1px 2px rgba(60, 64, 67, 0.3), 0px 1px 3px 1px rgba(60, 64, 67, 0.15);\n",
              "      fill: #174EA6;\n",
              "    }\n",
              "\n",
              "    [theme=dark] .colab-df-convert {\n",
              "      background-color: #3B4455;\n",
              "      fill: #D2E3FC;\n",
              "    }\n",
              "\n",
              "    [theme=dark] .colab-df-convert:hover {\n",
              "      background-color: #434B5C;\n",
              "      box-shadow: 0px 1px 3px 1px rgba(0, 0, 0, 0.15);\n",
              "      filter: drop-shadow(0px 1px 2px rgba(0, 0, 0, 0.3));\n",
              "      fill: #FFFFFF;\n",
              "    }\n",
              "  </style>\n",
              "\n",
              "      <script>\n",
              "        const buttonEl =\n",
              "          document.querySelector('#df-e092aca5-3c39-4d6e-9238-77db28fbaa2f button.colab-df-convert');\n",
              "        buttonEl.style.display =\n",
              "          google.colab.kernel.accessAllowed ? 'block' : 'none';\n",
              "\n",
              "        async function convertToInteractive(key) {\n",
              "          const element = document.querySelector('#df-e092aca5-3c39-4d6e-9238-77db28fbaa2f');\n",
              "          const dataTable =\n",
              "            await google.colab.kernel.invokeFunction('convertToInteractive',\n",
              "                                                     [key], {});\n",
              "          if (!dataTable) return;\n",
              "\n",
              "          const docLinkHtml = 'Like what you see? Visit the ' +\n",
              "            '<a target=\"_blank\" href=https://colab.research.google.com/notebooks/data_table.ipynb>data table notebook</a>'\n",
              "            + ' to learn more about interactive tables.';\n",
              "          element.innerHTML = '';\n",
              "          dataTable['output_type'] = 'display_data';\n",
              "          await google.colab.output.renderOutput(dataTable, element);\n",
              "          const docLink = document.createElement('div');\n",
              "          docLink.innerHTML = docLinkHtml;\n",
              "          element.appendChild(docLink);\n",
              "        }\n",
              "      </script>\n",
              "    </div>\n",
              "  </div>\n",
              "  "
            ]
          },
          "metadata": {},
          "execution_count": 31
        }
      ]
    },
    {
      "cell_type": "code",
      "source": [
        "# Plotting Kernel Density Estimate plots for pregnant, sick, tumor and goitre persons\n",
        "# Setting the figuresize of the graph to 13 in length and 7 in height\n",
        "#\n",
        "plt.figure(figsize=(13,7), dpi= 80)\n",
        "sns.kdeplot(tsh.loc[tsh['pregnant'] == True, \"age\"], shade=True, color=\"g\", label=\"Pregnant\", alpha=.7)\n",
        "sns.kdeplot(tsh.loc[tsh['sick'] == True, \"age\"], shade=True, color=\"deeppink\", label=\"Sick\", alpha=.7)\n",
        "sns.kdeplot(tsh.loc[tsh['tumor'] == True, \"age\"], shade=True, color=\"dodgerblue\", label=\"Tumor\", alpha=.7)\n",
        "sns.kdeplot(tsh.loc[tsh['goitre'] == True, \"age\"], shade=True, color=\"orange\", label=\"Goitre\", alpha=.7)\n",
        "plt.title('Density plot of age by Pregnancy, Sickness, Tumor and Goitre', fontsize=14, color = 'purple')\n",
        "plt.xlabel('Age', fontsize = 13, color = 'magenta')\n",
        "plt.ylabel('Frequency', color = 'purple', fontsize = 13)\n",
        "plt.legend()\n",
        "plt.show()"
      ],
      "metadata": {
        "colab": {
          "base_uri": "https://localhost:8080/",
          "height": 510
        },
        "id": "3RYkrmGOxpMI",
        "outputId": "a5acae6f-2ce0-480d-e900-d9c4d0bec3c3"
      },
      "execution_count": 32,
      "outputs": [
        {
          "output_type": "display_data",
          "data": {
            "text/plain": [
              "<Figure size 1040x560 with 1 Axes>"
            ],
            "image/png": "[encoded data removed]"
          },
          "metadata": {
            "needs_background": "light"
          }
        }
      ]
    },
    {
      "cell_type": "markdown",
      "source": [
        "* Majority of women who are pregnant lie between the ages of approximately 18 and 40 with a spike between 20 to 38 which as per the normal population is the most favored age for pregnancy.\n",
        "* The distribution of sick people is skewed to the left\n",
        "* Distribution of people with goitre is normally distributed"
      ],
      "metadata": {
        "id": "Is1x5vWCyF-P"
      }
    },
    {
      "cell_type": "code",
      "source": [
        "#Visual of the diferent determinants of hypothyroidism\n",
        "plt.figure(dpi= 80)\n",
        "sns.pairplot(tsh[['TSH', 'T3', 'TT4', 'T4U', 'FTI', 'sex']], kind=\"scatter\", hue=\"sex\", plot_kws=dict(s=80, edgecolor=\"white\", linewidth=2.5))\n",
        "plt.show()"
      ],
      "metadata": {
        "colab": {
          "base_uri": "https://localhost:8080/",
          "height": 921
        },
        "id": "tADiI2Wu1CXW",
        "outputId": "098018f2-8464-4738-95bd-55aa67d1101e"
      },
      "execution_count": 33,
      "outputs": [
        {
          "output_type": "display_data",
          "data": {
            "text/plain": [
              "<Figure size 480x320 with 0 Axes>"
            ]
          },
          "metadata": {}
        },
        {
          "output_type": "display_data",
          "data": {
            "text/plain": [
              "<Figure size 944.625x900 with 30 Axes>"
            ],
            "image/png": "[encoded data removed]"
          },
          "metadata": {
            "needs_background": "light"
          }
        }
      ]
    },
    {
      "cell_type": "markdown",
      "source": [
        "It's clear T3 has some what linear relationship with TT4, T4U, and FTI.\n",
        "\n",
        "TT4 has some what linear relationship with T4U and FTI."
      ],
      "metadata": {
        "id": "KmcEiF96UbFH"
      }
    },
    {
      "cell_type": "code",
      "source": [
        "# plotting the correlation using a heatmap\n",
        "fig, ax = plt.subplots(figsize=(20,10))  \n",
        "sns.heatmap(tsh.corr(), cmap=\"YlGnBu\", annot=True)"
      ],
      "metadata": {
        "colab": {
          "base_uri": "https://localhost:8080/",
          "height": 712
        },
        "id": "54Q0pzg_cxU8",
        "outputId": "f933f842-a97e-445b-c722-fd25281439ed"
      },
      "execution_count": 34,
      "outputs": [
        {
          "output_type": "execute_result",
          "data": {
            "text/plain": [
              "<matplotlib.axes._subplots.AxesSubplot at 0x7f52f324ad10>"
            ]
          },
          "metadata": {},
          "execution_count": 34
        },
        {
          "output_type": "display_data",
          "data": {
            "text/plain": [
              "<Figure size 1440x720 with 2 Axes>"
            ],
            "image/png": "[encoded data removed]"
          },
          "metadata": {
            "needs_background": "light"
          }
        }
      ]
    },
    {
      "cell_type": "markdown",
      "source": [
        "From the introduction the thyroid hormones are T3, T4, Tsh, FTI and from the aboce correlation there is a strong correlation between TT4 and FTI, T3 and TT4, T3 and T4U, T3 and FTI"
      ],
      "metadata": {
        "id": "1k736M9sytMa"
      }
    },
    {
      "cell_type": "markdown",
      "source": [
        "# **MODELING**"
      ],
      "metadata": {
        "id": "6QOv0Seec4sQ"
      }
    },
    {
      "cell_type": "markdown",
      "source": [
        "## **1. Decision Trees**"
      ],
      "metadata": {
        "id": "S9zzYjRhc87B"
      }
    },
    {
      "cell_type": "code",
      "source": [
        "tsh['TSH_measured'].value_counts()"
      ],
      "metadata": {
        "colab": {
          "base_uri": "https://localhost:8080/"
        },
        "id": "IHJ8cYJT9GAh",
        "outputId": "a82ba163-f7b8-491c-8a90-a9530c2c5e55"
      },
      "execution_count": 35,
      "outputs": [
        {
          "output_type": "execute_result",
          "data": {
            "text/plain": [
              "y    2631\n",
              "n     376\n",
              "Name: TSH_measured, dtype: int64"
            ]
          },
          "metadata": {},
          "execution_count": 35
        }
      ]
    },
    {
      "cell_type": "code",
      "source": [
        "tsh.columns"
      ],
      "metadata": {
        "colab": {
          "base_uri": "https://localhost:8080/"
        },
        "id": "anY3rXRW7YfD",
        "outputId": "67859f76-9a32-43cf-bb41-3c099820e7a4"
      },
      "execution_count": 36,
      "outputs": [
        {
          "output_type": "execute_result",
          "data": {
            "text/plain": [
              "Index(['status', 'age', 'sex', 'on_thyroxine', 'query_on_thyroxine',\n",
              "       'on_antithyroid_medication', 'thyroid_surgery', 'query_hypothyroid',\n",
              "       'query_hyperthyroid', 'pregnant', 'sick', 'tumor', 'lithium', 'goitre',\n",
              "       'TSH_measured', 'TSH', 'T3_measured', 'T3', 'TT4_measured', 'TT4',\n",
              "       'T4U_measured', 'T4U', 'FTI_measured', 'FTI'],\n",
              "      dtype='object')"
            ]
          },
          "metadata": {},
          "execution_count": 36
        }
      ]
    },
    {
      "cell_type": "code",
      "source": [
        "#changing the boolen to 0 and 1\n",
        "tsh = tsh.replace({'on_thyroxine': {True: 1,\n",
        "                                    False: 0}})\n",
        "  "
      ],
      "metadata": {
        "id": "hXl-nLh07G-B"
      },
      "execution_count": 37,
      "outputs": []
    },
    {
      "cell_type": "code",
      "source": [
        "tsh = tsh.replace({'query_on_thyroxine': {True: 1,\n",
        "                                    False: 0}})"
      ],
      "metadata": {
        "id": "RIOw4jw38dRt"
      },
      "execution_count": 38,
      "outputs": []
    },
    {
      "cell_type": "code",
      "source": [
        "tsh = tsh.replace({'on_antithyroid_medication': {True: 1,\n",
        "                                    False: 0}})"
      ],
      "metadata": {
        "id": "OWSwOyns8dLt"
      },
      "execution_count": 39,
      "outputs": []
    },
    {
      "cell_type": "code",
      "source": [
        "tsh = tsh.replace({'thyroid_surgery': {True: 1,\n",
        "                                    False: 0}})"
      ],
      "metadata": {
        "id": "07bvL9Sc8gx_"
      },
      "execution_count": 40,
      "outputs": []
    },
    {
      "cell_type": "code",
      "source": [
        "tsh = tsh.replace({'query_hypothyroid': {True: 1,\n",
        "                                    False: 0}})"
      ],
      "metadata": {
        "id": "0W53C2pX8dJI"
      },
      "execution_count": 41,
      "outputs": []
    },
    {
      "cell_type": "code",
      "source": [
        "tsh = tsh.replace({'query_hyperthyroid': {True: 1,\n",
        "                                    False: 0}})"
      ],
      "metadata": {
        "id": "itOiwvc58dAp"
      },
      "execution_count": 42,
      "outputs": []
    },
    {
      "cell_type": "code",
      "source": [
        "tsh = tsh.replace({'pregnant': {True: 1,\n",
        "                                    False: 0}})"
      ],
      "metadata": {
        "id": "5QPDDtZY8jqi"
      },
      "execution_count": 43,
      "outputs": []
    },
    {
      "cell_type": "code",
      "source": [
        "tsh = tsh.replace({'sick': {True: 1,\n",
        "                                    False: 0}})"
      ],
      "metadata": {
        "id": "nEI7EZPQ8ji5"
      },
      "execution_count": 44,
      "outputs": []
    },
    {
      "cell_type": "code",
      "source": [
        "tsh = tsh.replace({'tumor': {True: 1,\n",
        "                                    False: 0}})"
      ],
      "metadata": {
        "id": "t4aLsoAE8jcq"
      },
      "execution_count": 45,
      "outputs": []
    },
    {
      "cell_type": "code",
      "source": [
        "tsh = tsh.replace({'lithium': {True: 1,\n",
        "                                    False: 0}})"
      ],
      "metadata": {
        "id": "ZQLutceZ8c8T"
      },
      "execution_count": 46,
      "outputs": []
    },
    {
      "cell_type": "code",
      "source": [
        "tsh = tsh.replace({'goitre': {True: 1,\n",
        "                                    False: 0}})"
      ],
      "metadata": {
        "id": "-LL4t2Jv9bJF"
      },
      "execution_count": 47,
      "outputs": []
    },
    {
      "cell_type": "code",
      "source": [
        "tsh = tsh.replace({'TSH_measured': {'y': 1,\n",
        "                                    'n': 0}})"
      ],
      "metadata": {
        "id": "OSyvf0xv9bDo"
      },
      "execution_count": 48,
      "outputs": []
    },
    {
      "cell_type": "code",
      "source": [
        "tsh = tsh.replace({'T3_measured': {'y': 1,\n",
        "                                    'n': 0}})"
      ],
      "metadata": {
        "id": "eSKbyaif9a_s"
      },
      "execution_count": 49,
      "outputs": []
    },
    {
      "cell_type": "code",
      "source": [
        "tsh = tsh.replace({'TT4_measured': {'y': 1,\n",
        "                                    'n': 0}})"
      ],
      "metadata": {
        "id": "0CjbBUX590Gr"
      },
      "execution_count": 50,
      "outputs": []
    },
    {
      "cell_type": "code",
      "source": [
        "tsh = tsh.replace({'T4U_measured': {'y': 1,\n",
        "                                    'n': 0}})"
      ],
      "metadata": {
        "id": "RG19aTfl9z-n"
      },
      "execution_count": 51,
      "outputs": []
    },
    {
      "cell_type": "code",
      "source": [
        "tsh = tsh.replace({'FTI_measured': {'y': 1,\n",
        "                                    'n': 0}})"
      ],
      "metadata": {
        "id": "AGM-mnG69xKL"
      },
      "execution_count": 52,
      "outputs": []
    },
    {
      "cell_type": "code",
      "source": [
        "tsh = tsh.replace({'sex': {'F': 1,\n",
        "                            'M': 0}})"
      ],
      "metadata": {
        "id": "0sQ1POdT-No7"
      },
      "execution_count": 53,
      "outputs": []
    },
    {
      "cell_type": "code",
      "source": [
        "tsh.head(3)"
      ],
      "metadata": {
        "colab": {
          "base_uri": "https://localhost:8080/",
          "height": 237
        },
        "id": "QovZgYp37hXX",
        "outputId": "727c253b-7dd4-4143-ba20-514aea2ed7e2"
      },
      "execution_count": 54,
      "outputs": [
        {
          "output_type": "execute_result",
          "data": {
            "text/plain": [
              "        status   age  sex  on_thyroxine  query_on_thyroxine  \\\n",
              "0  hypothyroid  72.0    0             0                   0   \n",
              "1  hypothyroid  15.0    1             1                   0   \n",
              "2  hypothyroid  24.0    0             0                   0   \n",
              "\n",
              "   on_antithyroid_medication  thyroid_surgery  query_hypothyroid  \\\n",
              "0                          0                0                  0   \n",
              "1                          0                0                  0   \n",
              "2                          0                0                  0   \n",
              "\n",
              "   query_hyperthyroid  pregnant  ...  TSH_measured    TSH  T3_measured   T3  \\\n",
              "0                   0         0  ...             1   30.0            1  0.6   \n",
              "1                   0         0  ...             1  145.0            1  1.7   \n",
              "2                   0         0  ...             1    0.0            1  0.2   \n",
              "\n",
              "   TT4_measured   TT4  T4U_measured   T4U  FTI_measured   FTI  \n",
              "0             1  15.0             1  1.48             1  10.0  \n",
              "1             1  19.0             1  1.13             1  17.0  \n",
              "2             1   4.0             1  1.00             1   0.0  \n",
              "\n",
              "[3 rows x 24 columns]"
            ],
            "text/html": [
              "\n",
              "  <div id=\"df-56148bcd-5a54-4dff-a4cc-0db46ee4f07e\">\n",
              "    <div class=\"colab-df-container\">\n",
              "      <div>\n",
              "<style scoped>\n",
              "    .dataframe tbody tr th:only-of-type {\n",
              "        vertical-align: middle;\n",
              "    }\n",
              "\n",
              "    .dataframe tbody tr th {\n",
              "        vertical-align: top;\n",
              "    }\n",
              "\n",
              "    .dataframe thead th {\n",
              "        text-align: right;\n",
              "    }\n",
              "</style>\n",
              "<table border=\"1\" class=\"dataframe\">\n",
              "  <thead>\n",
              "    <tr style=\"text-align: right;\">\n",
              "      <th></th>\n",
              "      <th>status</th>\n",
              "      <th>age</th>\n",
              "      <th>sex</th>\n",
              "      <th>on_thyroxine</th>\n",
              "      <th>query_on_thyroxine</th>\n",
              "      <th>on_antithyroid_medication</th>\n",
              "      <th>thyroid_surgery</th>\n",
              "      <th>query_hypothyroid</th>\n",
              "      <th>query_hyperthyroid</th>\n",
              "      <th>pregnant</th>\n",
              "      <th>...</th>\n",
              "      <th>TSH_measured</th>\n",
              "      <th>TSH</th>\n",
              "      <th>T3_measured</th>\n",
              "      <th>T3</th>\n",
              "      <th>TT4_measured</th>\n",
              "      <th>TT4</th>\n",
              "      <th>T4U_measured</th>\n",
              "      <th>T4U</th>\n",
              "      <th>FTI_measured</th>\n",
              "      <th>FTI</th>\n",
              "    </tr>\n",
              "  </thead>\n",
              "  <tbody>\n",
              "    <tr>\n",
              "      <th>0</th>\n",
              "      <td>hypothyroid</td>\n",
              "      <td>72.0</td>\n",
              "      <td>0</td>\n",
              "      <td>0</td>\n",
              "      <td>0</td>\n",
              "      <td>0</td>\n",
              "      <td>0</td>\n",
              "      <td>0</td>\n",
              "      <td>0</td>\n",
              "      <td>0</td>\n",
              "      <td>...</td>\n",
              "      <td>1</td>\n",
              "      <td>30.0</td>\n",
              "      <td>1</td>\n",
              "      <td>0.6</td>\n",
              "      <td>1</td>\n",
              "      <td>15.0</td>\n",
              "      <td>1</td>\n",
              "      <td>1.48</td>\n",
              "      <td>1</td>\n",
              "      <td>10.0</td>\n",
              "    </tr>\n",
              "    <tr>\n",
              "      <th>1</th>\n",
              "      <td>hypothyroid</td>\n",
              "      <td>15.0</td>\n",
              "      <td>1</td>\n",
              "      <td>1</td>\n",
              "      <td>0</td>\n",
              "      <td>0</td>\n",
              "      <td>0</td>\n",
              "      <td>0</td>\n",
              "      <td>0</td>\n",
              "      <td>0</td>\n",
              "      <td>...</td>\n",
              "      <td>1</td>\n",
              "      <td>145.0</td>\n",
              "      <td>1</td>\n",
              "      <td>1.7</td>\n",
              "      <td>1</td>\n",
              "      <td>19.0</td>\n",
              "      <td>1</td>\n",
              "      <td>1.13</td>\n",
              "      <td>1</td>\n",
              "      <td>17.0</td>\n",
              "    </tr>\n",
              "    <tr>\n",
              "      <th>2</th>\n",
              "      <td>hypothyroid</td>\n",
              "      <td>24.0</td>\n",
              "      <td>0</td>\n",
              "      <td>0</td>\n",
              "      <td>0</td>\n",
              "      <td>0</td>\n",
              "      <td>0</td>\n",
              "      <td>0</td>\n",
              "      <td>0</td>\n",
              "      <td>0</td>\n",
              "      <td>...</td>\n",
              "      <td>1</td>\n",
              "      <td>0.0</td>\n",
              "      <td>1</td>\n",
              "      <td>0.2</td>\n",
              "      <td>1</td>\n",
              "      <td>4.0</td>\n",
              "      <td>1</td>\n",
              "      <td>1.00</td>\n",
              "      <td>1</td>\n",
              "      <td>0.0</td>\n",
              "    </tr>\n",
              "  </tbody>\n",
              "</table>\n",
              "<p>3 rows × 24 columns</p>\n",
              "</div>\n",
              "      <button class=\"colab-df-convert\" onclick=\"convertToInteractive('df-56148bcd-5a54-4dff-a4cc-0db46ee4f07e')\"\n",
              "              title=\"Convert this dataframe to an interactive table.\"\n",
              "              style=\"display:none;\">\n",
              "        \n",
              "  <svg xmlns=\"http://www.w3.org/2000/svg\" height=\"24px\"viewBox=\"0 0 24 24\"\n",
              "       width=\"24px\">\n",
              "    <path d=\"M0 0h24v24H0V0z\" fill=\"none\"/>\n",
              "    <path d=\"M18.56 5.44l.94 2.06.94-2.06 2.06-.94-2.06-.94-.94-2.06-.94 2.06-2.06.94zm-11 1L8.5 8.5l.94-2.06 2.06-.94-2.06-.94L8.5 2.5l-.94 2.06-2.06.94zm10 10l.94 2.06.94-2.06 2.06-.94-2.06-.94-.94-2.06-.94 2.06-2.06.94z\"/><path d=\"M17.41 7.96l-1.37-1.37c-.4-.4-.92-.59-1.43-.59-.52 0-1.04.2-1.43.59L10.3 9.45l-7.72 7.72c-.78.78-.78 2.05 0 2.83L4 21.41c.39.39.9.59 1.41.59.51 0 1.02-.2 1.41-.59l7.78-7.78 2.81-2.81c.8-.78.8-2.07 0-2.86zM5.41 20L4 18.59l7.72-7.72 1.47 1.35L5.41 20z\"/>\n",
              "  </svg>\n",
              "      </button>\n",
              "      \n",
              "  <style>\n",
              "    .colab-df-container {\n",
              "      display:flex;\n",
              "      flex-wrap:wrap;\n",
              "      gap: 12px;\n",
              "    }\n",
              "\n",
              "    .colab-df-convert {\n",
              "      background-color: #E8F0FE;\n",
              "      border: none;\n",
              "      border-radius: 50%;\n",
              "      cursor: pointer;\n",
              "      display: none;\n",
              "      fill: #1967D2;\n",
              "      height: 32px;\n",
              "      padding: 0 0 0 0;\n",
              "      width: 32px;\n",
              "    }\n",
              "\n",
              "    .colab-df-convert:hover {\n",
              "      background-color: #E2EBFA;\n",
              "      box-shadow: 0px 1px 2px rgba(60, 64, 67, 0.3), 0px 1px 3px 1px rgba(60, 64, 67, 0.15);\n",
              "      fill: #174EA6;\n",
              "    }\n",
              "\n",
              "    [theme=dark] .colab-df-convert {\n",
              "      background-color: #3B4455;\n",
              "      fill: #D2E3FC;\n",
              "    }\n",
              "\n",
              "    [theme=dark] .colab-df-convert:hover {\n",
              "      background-color: #434B5C;\n",
              "      box-shadow: 0px 1px 3px 1px rgba(0, 0, 0, 0.15);\n",
              "      filter: drop-shadow(0px 1px 2px rgba(0, 0, 0, 0.3));\n",
              "      fill: #FFFFFF;\n",
              "    }\n",
              "  </style>\n",
              "\n",
              "      <script>\n",
              "        const buttonEl =\n",
              "          document.querySelector('#df-56148bcd-5a54-4dff-a4cc-0db46ee4f07e button.colab-df-convert');\n",
              "        buttonEl.style.display =\n",
              "          google.colab.kernel.accessAllowed ? 'block' : 'none';\n",
              "\n",
              "        async function convertToInteractive(key) {\n",
              "          const element = document.querySelector('#df-56148bcd-5a54-4dff-a4cc-0db46ee4f07e');\n",
              "          const dataTable =\n",
              "            await google.colab.kernel.invokeFunction('convertToInteractive',\n",
              "                                                     [key], {});\n",
              "          if (!dataTable) return;\n",
              "\n",
              "          const docLinkHtml = 'Like what you see? Visit the ' +\n",
              "            '<a target=\"_blank\" href=https://colab.research.google.com/notebooks/data_table.ipynb>data table notebook</a>'\n",
              "            + ' to learn more about interactive tables.';\n",
              "          element.innerHTML = '';\n",
              "          dataTable['output_type'] = 'display_data';\n",
              "          await google.colab.output.renderOutput(dataTable, element);\n",
              "          const docLink = document.createElement('div');\n",
              "          docLink.innerHTML = docLinkHtml;\n",
              "          element.appendChild(docLink);\n",
              "        }\n",
              "      </script>\n",
              "    </div>\n",
              "  </div>\n",
              "  "
            ]
          },
          "metadata": {},
          "execution_count": 54
        }
      ]
    },
    {
      "cell_type": "markdown",
      "source": [
        "**a. Random Forest**"
      ],
      "metadata": {
        "id": "fXNug_4x-DMx"
      }
    },
    {
      "cell_type": "code",
      "source": [
        "#Preprocessing\n",
        "X= tsh.drop(['status'], axis=1)\n",
        "y = np.where(tsh.status == 'hypothyroid', 1, 0)"
      ],
      "metadata": {
        "id": "uwN-ye4j1oZk"
      },
      "execution_count": 55,
      "outputs": []
    },
    {
      "cell_type": "code",
      "source": [
        "# Splitting the data into training and testing sets 25%\n",
        "#\n",
        "from sklearn.model_selection import train_test_split\n",
        "X_train, X_test, y_train, y_test = train_test_split(X, y, test_size = 0.25, random_state = 0)\n"
      ],
      "metadata": {
        "id": "WWtP3YqA2JqR"
      },
      "execution_count": 56,
      "outputs": []
    },
    {
      "cell_type": "code",
      "source": [
        "from sklearn.ensemble import RandomForestClassifier\n",
        "\n",
        "forest1 = RandomForestClassifier(n_estimators = 100, random_state=42, min_samples_split = 20, max_depth=5)\n",
        "forest11 = forest1.fit(X_train, y_train)\n",
        "\n",
        "# Predict based on the model we've trained\n",
        "y_pred = forest11.predict(X_test)\n",
        "\n",
        "\n",
        "comparison_frame = pd.DataFrame({'Actual': y_test.flatten(), 'Predicted': y_pred.flatten()})\n",
        "comparison_frame.describe()\n"
      ],
      "metadata": {
        "colab": {
          "base_uri": "https://localhost:8080/",
          "height": 300
        },
        "id": "Fcs_GRYhc6ae",
        "outputId": "6420a5c9-c8c3-47d8-8f70-ca57882b30f5"
      },
      "execution_count": 57,
      "outputs": [
        {
          "output_type": "execute_result",
          "data": {
            "text/plain": [
              "           Actual   Predicted\n",
              "count  752.000000  752.000000\n",
              "mean     0.042553    0.035904\n",
              "std      0.201982    0.186175\n",
              "min      0.000000    0.000000\n",
              "25%      0.000000    0.000000\n",
              "50%      0.000000    0.000000\n",
              "75%      0.000000    0.000000\n",
              "max      1.000000    1.000000"
            ],
            "text/html": [
              "\n",
              "  <div id=\"df-4a057576-d159-412b-b8f9-34458f6532ca\">\n",
              "    <div class=\"colab-df-container\">\n",
              "      <div>\n",
              "<style scoped>\n",
              "    .dataframe tbody tr th:only-of-type {\n",
              "        vertical-align: middle;\n",
              "    }\n",
              "\n",
              "    .dataframe tbody tr th {\n",
              "        vertical-align: top;\n",
              "    }\n",
              "\n",
              "    .dataframe thead th {\n",
              "        text-align: right;\n",
              "    }\n",
              "</style>\n",
              "<table border=\"1\" class=\"dataframe\">\n",
              "  <thead>\n",
              "    <tr style=\"text-align: right;\">\n",
              "      <th></th>\n",
              "      <th>Actual</th>\n",
              "      <th>Predicted</th>\n",
              "    </tr>\n",
              "  </thead>\n",
              "  <tbody>\n",
              "    <tr>\n",
              "      <th>count</th>\n",
              "      <td>752.000000</td>\n",
              "      <td>752.000000</td>\n",
              "    </tr>\n",
              "    <tr>\n",
              "      <th>mean</th>\n",
              "      <td>0.042553</td>\n",
              "      <td>0.035904</td>\n",
              "    </tr>\n",
              "    <tr>\n",
              "      <th>std</th>\n",
              "      <td>0.201982</td>\n",
              "      <td>0.186175</td>\n",
              "    </tr>\n",
              "    <tr>\n",
              "      <th>min</th>\n",
              "      <td>0.000000</td>\n",
              "      <td>0.000000</td>\n",
              "    </tr>\n",
              "    <tr>\n",
              "      <th>25%</th>\n",
              "      <td>0.000000</td>\n",
              "      <td>0.000000</td>\n",
              "    </tr>\n",
              "    <tr>\n",
              "      <th>50%</th>\n",
              "      <td>0.000000</td>\n",
              "      <td>0.000000</td>\n",
              "    </tr>\n",
              "    <tr>\n",
              "      <th>75%</th>\n",
              "      <td>0.000000</td>\n",
              "      <td>0.000000</td>\n",
              "    </tr>\n",
              "    <tr>\n",
              "      <th>max</th>\n",
              "      <td>1.000000</td>\n",
              "      <td>1.000000</td>\n",
              "    </tr>\n",
              "  </tbody>\n",
              "</table>\n",
              "</div>\n",
              "      <button class=\"colab-df-convert\" onclick=\"convertToInteractive('df-4a057576-d159-412b-b8f9-34458f6532ca')\"\n",
              "              title=\"Convert this dataframe to an interactive table.\"\n",
              "              style=\"display:none;\">\n",
              "        \n",
              "  <svg xmlns=\"http://www.w3.org/2000/svg\" height=\"24px\"viewBox=\"0 0 24 24\"\n",
              "       width=\"24px\">\n",
              "    <path d=\"M0 0h24v24H0V0z\" fill=\"none\"/>\n",
              "    <path d=\"M18.56 5.44l.94 2.06.94-2.06 2.06-.94-2.06-.94-.94-2.06-.94 2.06-2.06.94zm-11 1L8.5 8.5l.94-2.06 2.06-.94-2.06-.94L8.5 2.5l-.94 2.06-2.06.94zm10 10l.94 2.06.94-2.06 2.06-.94-2.06-.94-.94-2.06-.94 2.06-2.06.94z\"/><path d=\"M17.41 7.96l-1.37-1.37c-.4-.4-.92-.59-1.43-.59-.52 0-1.04.2-1.43.59L10.3 9.45l-7.72 7.72c-.78.78-.78 2.05 0 2.83L4 21.41c.39.39.9.59 1.41.59.51 0 1.02-.2 1.41-.59l7.78-7.78 2.81-2.81c.8-.78.8-2.07 0-2.86zM5.41 20L4 18.59l7.72-7.72 1.47 1.35L5.41 20z\"/>\n",
              "  </svg>\n",
              "      </button>\n",
              "      \n",
              "  <style>\n",
              "    .colab-df-container {\n",
              "      display:flex;\n",
              "      flex-wrap:wrap;\n",
              "      gap: 12px;\n",
              "    }\n",
              "\n",
              "    .colab-df-convert {\n",
              "      background-color: #E8F0FE;\n",
              "      border: none;\n",
              "      border-radius: 50%;\n",
              "      cursor: pointer;\n",
              "      display: none;\n",
              "      fill: #1967D2;\n",
              "      height: 32px;\n",
              "      padding: 0 0 0 0;\n",
              "      width: 32px;\n",
              "    }\n",
              "\n",
              "    .colab-df-convert:hover {\n",
              "      background-color: #E2EBFA;\n",
              "      box-shadow: 0px 1px 2px rgba(60, 64, 67, 0.3), 0px 1px 3px 1px rgba(60, 64, 67, 0.15);\n",
              "      fill: #174EA6;\n",
              "    }\n",
              "\n",
              "    [theme=dark] .colab-df-convert {\n",
              "      background-color: #3B4455;\n",
              "      fill: #D2E3FC;\n",
              "    }\n",
              "\n",
              "    [theme=dark] .colab-df-convert:hover {\n",
              "      background-color: #434B5C;\n",
              "      box-shadow: 0px 1px 3px 1px rgba(0, 0, 0, 0.15);\n",
              "      filter: drop-shadow(0px 1px 2px rgba(0, 0, 0, 0.3));\n",
              "      fill: #FFFFFF;\n",
              "    }\n",
              "  </style>\n",
              "\n",
              "      <script>\n",
              "        const buttonEl =\n",
              "          document.querySelector('#df-4a057576-d159-412b-b8f9-34458f6532ca button.colab-df-convert');\n",
              "        buttonEl.style.display =\n",
              "          google.colab.kernel.accessAllowed ? 'block' : 'none';\n",
              "\n",
              "        async function convertToInteractive(key) {\n",
              "          const element = document.querySelector('#df-4a057576-d159-412b-b8f9-34458f6532ca');\n",
              "          const dataTable =\n",
              "            await google.colab.kernel.invokeFunction('convertToInteractive',\n",
              "                                                     [key], {});\n",
              "          if (!dataTable) return;\n",
              "\n",
              "          const docLinkHtml = 'Like what you see? Visit the ' +\n",
              "            '<a target=\"_blank\" href=https://colab.research.google.com/notebooks/data_table.ipynb>data table notebook</a>'\n",
              "            + ' to learn more about interactive tables.';\n",
              "          element.innerHTML = '';\n",
              "          dataTable['output_type'] = 'display_data';\n",
              "          await google.colab.output.renderOutput(dataTable, element);\n",
              "          const docLink = document.createElement('div');\n",
              "          docLink.innerHTML = docLinkHtml;\n",
              "          element.appendChild(docLink);\n",
              "        }\n",
              "      </script>\n",
              "    </div>\n",
              "  </div>\n",
              "  "
            ]
          },
          "metadata": {},
          "execution_count": 57
        }
      ]
    },
    {
      "cell_type": "markdown",
      "source": [
        "We can see there is not than much difference of what predicted to the actual"
      ],
      "metadata": {
        "id": "DRKDF4Mz2pcM"
      }
    },
    {
      "cell_type": "code",
      "source": [
        "# And now we assess the errors\n",
        "\n",
        "from sklearn import metrics\n",
        "# Model Accuracy, how often is the classifier correct?\n",
        "print(\"Accuracy:\",metrics.accuracy_score(y_test, y_pred))"
      ],
      "metadata": {
        "colab": {
          "base_uri": "https://localhost:8080/"
        },
        "id": "PD-8HEvW4jbX",
        "outputId": "2732e13c-8995-4b30-807d-6a9594264b73"
      },
      "execution_count": 58,
      "outputs": [
        {
          "output_type": "stream",
          "name": "stdout",
          "text": [
            "Accuracy: 0.988031914893617\n"
          ]
        }
      ]
    },
    {
      "cell_type": "markdown",
      "source": [
        "We have a 98% accuracy that's pretty good"
      ],
      "metadata": {
        "id": "h5cEJbfH9DpL"
      }
    },
    {
      "cell_type": "code",
      "source": [
        "# Checking for the most important features that contribute most in predicting the target\n",
        "# Creating a dataframe of features and their respective importances\n",
        "#\n",
        "df = pd.DataFrame({'feature': X.columns, 'importance': np.round(forest11.feature_importances_, 4)}).set_index('feature').sort_values(by = 'importance', ascending = False)\n",
        "df"
      ],
      "metadata": {
        "colab": {
          "base_uri": "https://localhost:8080/",
          "height": 801
        },
        "id": "L2jlrTN55e2T",
        "outputId": "36f67399-1c20-4c1f-a8bd-29777b1f2825"
      },
      "execution_count": 59,
      "outputs": [
        {
          "output_type": "execute_result",
          "data": {
            "text/plain": [
              "                           importance\n",
              "feature                              \n",
              "FTI                            0.3682\n",
              "TSH                            0.2796\n",
              "TT4                            0.2364\n",
              "T3                             0.0590\n",
              "T4U                            0.0183\n",
              "age                            0.0105\n",
              "TSH_measured                   0.0084\n",
              "on_antithyroid_medication      0.0044\n",
              "query_hypothyroid              0.0027\n",
              "sick                           0.0025\n",
              "thyroid_surgery                0.0016\n",
              "tumor                          0.0016\n",
              "sex                            0.0015\n",
              "goitre                         0.0015\n",
              "on_thyroxine                   0.0015\n",
              "T3_measured                    0.0013\n",
              "TT4_measured                   0.0003\n",
              "query_hyperthyroid             0.0002\n",
              "FTI_measured                   0.0002\n",
              "pregnant                       0.0001\n",
              "T4U_measured                   0.0001\n",
              "query_on_thyroxine             0.0000\n",
              "lithium                        0.0000"
            ],
            "text/html": [
              "\n",
              "  <div id=\"df-85968c0a-7e76-4d1a-a064-725fc19e03a5\">\n",
              "    <div class=\"colab-df-container\">\n",
              "      <div>\n",
              "<style scoped>\n",
              "    .dataframe tbody tr th:only-of-type {\n",
              "        vertical-align: middle;\n",
              "    }\n",
              "\n",
              "    .dataframe tbody tr th {\n",
              "        vertical-align: top;\n",
              "    }\n",
              "\n",
              "    .dataframe thead th {\n",
              "        text-align: right;\n",
              "    }\n",
              "</style>\n",
              "<table border=\"1\" class=\"dataframe\">\n",
              "  <thead>\n",
              "    <tr style=\"text-align: right;\">\n",
              "      <th></th>\n",
              "      <th>importance</th>\n",
              "    </tr>\n",
              "    <tr>\n",
              "      <th>feature</th>\n",
              "      <th></th>\n",
              "    </tr>\n",
              "  </thead>\n",
              "  <tbody>\n",
              "    <tr>\n",
              "      <th>FTI</th>\n",
              "      <td>0.3682</td>\n",
              "    </tr>\n",
              "    <tr>\n",
              "      <th>TSH</th>\n",
              "      <td>0.2796</td>\n",
              "    </tr>\n",
              "    <tr>\n",
              "      <th>TT4</th>\n",
              "      <td>0.2364</td>\n",
              "    </tr>\n",
              "    <tr>\n",
              "      <th>T3</th>\n",
              "      <td>0.0590</td>\n",
              "    </tr>\n",
              "    <tr>\n",
              "      <th>T4U</th>\n",
              "      <td>0.0183</td>\n",
              "    </tr>\n",
              "    <tr>\n",
              "      <th>age</th>\n",
              "      <td>0.0105</td>\n",
              "    </tr>\n",
              "    <tr>\n",
              "      <th>TSH_measured</th>\n",
              "      <td>0.0084</td>\n",
              "    </tr>\n",
              "    <tr>\n",
              "      <th>on_antithyroid_medication</th>\n",
              "      <td>0.0044</td>\n",
              "    </tr>\n",
              "    <tr>\n",
              "      <th>query_hypothyroid</th>\n",
              "      <td>0.0027</td>\n",
              "    </tr>\n",
              "    <tr>\n",
              "      <th>sick</th>\n",
              "      <td>0.0025</td>\n",
              "    </tr>\n",
              "    <tr>\n",
              "      <th>thyroid_surgery</th>\n",
              "      <td>0.0016</td>\n",
              "    </tr>\n",
              "    <tr>\n",
              "      <th>tumor</th>\n",
              "      <td>0.0016</td>\n",
              "    </tr>\n",
              "    <tr>\n",
              "      <th>sex</th>\n",
              "      <td>0.0015</td>\n",
              "    </tr>\n",
              "    <tr>\n",
              "      <th>goitre</th>\n",
              "      <td>0.0015</td>\n",
              "    </tr>\n",
              "    <tr>\n",
              "      <th>on_thyroxine</th>\n",
              "      <td>0.0015</td>\n",
              "    </tr>\n",
              "    <tr>\n",
              "      <th>T3_measured</th>\n",
              "      <td>0.0013</td>\n",
              "    </tr>\n",
              "    <tr>\n",
              "      <th>TT4_measured</th>\n",
              "      <td>0.0003</td>\n",
              "    </tr>\n",
              "    <tr>\n",
              "      <th>query_hyperthyroid</th>\n",
              "      <td>0.0002</td>\n",
              "    </tr>\n",
              "    <tr>\n",
              "      <th>FTI_measured</th>\n",
              "      <td>0.0002</td>\n",
              "    </tr>\n",
              "    <tr>\n",
              "      <th>pregnant</th>\n",
              "      <td>0.0001</td>\n",
              "    </tr>\n",
              "    <tr>\n",
              "      <th>T4U_measured</th>\n",
              "      <td>0.0001</td>\n",
              "    </tr>\n",
              "    <tr>\n",
              "      <th>query_on_thyroxine</th>\n",
              "      <td>0.0000</td>\n",
              "    </tr>\n",
              "    <tr>\n",
              "      <th>lithium</th>\n",
              "      <td>0.0000</td>\n",
              "    </tr>\n",
              "  </tbody>\n",
              "</table>\n",
              "</div>\n",
              "      <button class=\"colab-df-convert\" onclick=\"convertToInteractive('df-85968c0a-7e76-4d1a-a064-725fc19e03a5')\"\n",
              "              title=\"Convert this dataframe to an interactive table.\"\n",
              "              style=\"display:none;\">\n",
              "        \n",
              "  <svg xmlns=\"http://www.w3.org/2000/svg\" height=\"24px\"viewBox=\"0 0 24 24\"\n",
              "       width=\"24px\">\n",
              "    <path d=\"M0 0h24v24H0V0z\" fill=\"none\"/>\n",
              "    <path d=\"M18.56 5.44l.94 2.06.94-2.06 2.06-.94-2.06-.94-.94-2.06-.94 2.06-2.06.94zm-11 1L8.5 8.5l.94-2.06 2.06-.94-2.06-.94L8.5 2.5l-.94 2.06-2.06.94zm10 10l.94 2.06.94-2.06 2.06-.94-2.06-.94-.94-2.06-.94 2.06-2.06.94z\"/><path d=\"M17.41 7.96l-1.37-1.37c-.4-.4-.92-.59-1.43-.59-.52 0-1.04.2-1.43.59L10.3 9.45l-7.72 7.72c-.78.78-.78 2.05 0 2.83L4 21.41c.39.39.9.59 1.41.59.51 0 1.02-.2 1.41-.59l7.78-7.78 2.81-2.81c.8-.78.8-2.07 0-2.86zM5.41 20L4 18.59l7.72-7.72 1.47 1.35L5.41 20z\"/>\n",
              "  </svg>\n",
              "      </button>\n",
              "      \n",
              "  <style>\n",
              "    .colab-df-container {\n",
              "      display:flex;\n",
              "      flex-wrap:wrap;\n",
              "      gap: 12px;\n",
              "    }\n",
              "\n",
              "    .colab-df-convert {\n",
              "      background-color: #E8F0FE;\n",
              "      border: none;\n",
              "      border-radius: 50%;\n",
              "      cursor: pointer;\n",
              "      display: none;\n",
              "      fill: #1967D2;\n",
              "      height: 32px;\n",
              "      padding: 0 0 0 0;\n",
              "      width: 32px;\n",
              "    }\n",
              "\n",
              "    .colab-df-convert:hover {\n",
              "      background-color: #E2EBFA;\n",
              "      box-shadow: 0px 1px 2px rgba(60, 64, 67, 0.3), 0px 1px 3px 1px rgba(60, 64, 67, 0.15);\n",
              "      fill: #174EA6;\n",
              "    }\n",
              "\n",
              "    [theme=dark] .colab-df-convert {\n",
              "      background-color: #3B4455;\n",
              "      fill: #D2E3FC;\n",
              "    }\n",
              "\n",
              "    [theme=dark] .colab-df-convert:hover {\n",
              "      background-color: #434B5C;\n",
              "      box-shadow: 0px 1px 3px 1px rgba(0, 0, 0, 0.15);\n",
              "      filter: drop-shadow(0px 1px 2px rgba(0, 0, 0, 0.3));\n",
              "      fill: #FFFFFF;\n",
              "    }\n",
              "  </style>\n",
              "\n",
              "      <script>\n",
              "        const buttonEl =\n",
              "          document.querySelector('#df-85968c0a-7e76-4d1a-a064-725fc19e03a5 button.colab-df-convert');\n",
              "        buttonEl.style.display =\n",
              "          google.colab.kernel.accessAllowed ? 'block' : 'none';\n",
              "\n",
              "        async function convertToInteractive(key) {\n",
              "          const element = document.querySelector('#df-85968c0a-7e76-4d1a-a064-725fc19e03a5');\n",
              "          const dataTable =\n",
              "            await google.colab.kernel.invokeFunction('convertToInteractive',\n",
              "                                                     [key], {});\n",
              "          if (!dataTable) return;\n",
              "\n",
              "          const docLinkHtml = 'Like what you see? Visit the ' +\n",
              "            '<a target=\"_blank\" href=https://colab.research.google.com/notebooks/data_table.ipynb>data table notebook</a>'\n",
              "            + ' to learn more about interactive tables.';\n",
              "          element.innerHTML = '';\n",
              "          dataTable['output_type'] = 'display_data';\n",
              "          await google.colab.output.renderOutput(dataTable, element);\n",
              "          const docLink = document.createElement('div');\n",
              "          docLink.innerHTML = docLinkHtml;\n",
              "          element.appendChild(docLink);\n",
              "        }\n",
              "      </script>\n",
              "    </div>\n",
              "  </div>\n",
              "  "
            ]
          },
          "metadata": {},
          "execution_count": 59
        }
      ]
    },
    {
      "cell_type": "code",
      "source": [
        "# Creating a bar chart of feature importance in descending order\n",
        "#\n",
        "df = df[:12].sort_values(by = 'importance', ascending = True)\n",
        "df.plot(kind = 'barh', figsize = (10, 10), color = 'purple')\n",
        "plt.legend(loc = 'center right')\n",
        "plt.title('Bar chart showing feature importance', color = 'indigo', fontsize = 14)\n",
        "plt.xlabel('Features', fontsize = 12, color = 'indigo')\n",
        "plt.show()\n"
      ],
      "metadata": {
        "colab": {
          "base_uri": "https://localhost:8080/",
          "height": 626
        },
        "id": "nke7cgY20N1U",
        "outputId": "9d77f270-f697-4451-a258-f47305896ba3"
      },
      "execution_count": 60,
      "outputs": [
        {
          "output_type": "display_data",
          "data": {
            "text/plain": [
              "<Figure size 720x720 with 1 Axes>"
            ],
            "image/png": "[encoded data removed]"
          },
          "metadata": {
            "needs_background": "light"
          }
        }
      ]
    },
    {
      "cell_type": "markdown",
      "source": [
        "Remodelling with important features"
      ],
      "metadata": {
        "id": "pKDCFit38EpI"
      }
    },
    {
      "cell_type": "code",
      "source": [
        "# Selecting only important features and the y variable\n",
        "#\n",
        "X = X[['age', 'TSH', 'T3', 'TT4', 'T4U', 'FTI', 'TSH_measured']]\n",
        "\n",
        "y = np.where(tsh.status == 'hypothyroid', 1, 0)\n",
        "\n",
        "# Splitting the data into training and testing sets\n",
        "#\n",
        "X_train, X_test, y_train, y_test = train_test_split(X, y, test_size = 0.3, random_state = 0)\n",
        "\n",
        "# Instantiating the model\n",
        "#\n",
        "forst = RandomForestClassifier(random_state = 0)\n",
        "forst.fit(X_train, y_train)\n",
        "\n",
        "# Making predictions\n",
        "#\n",
        "y_pred = forst.predict(X_test)\n"
      ],
      "metadata": {
        "id": "gCte1wDU8Ihd"
      },
      "execution_count": 61,
      "outputs": []
    },
    {
      "cell_type": "code",
      "source": [
        "from sklearn.metrics import confusion_matrix\n",
        "from sklearn.metrics import accuracy_score\n",
        "from sklearn.metrics import classification_report\n",
        "from sklearn import metrics\n",
        "#Evaluating our model\n",
        "print(\"Confusion Matrix: \",\n",
        "        confusion_matrix(y_test, y_pred))\n",
        "      \n",
        "print (\"Accuracy : \",\n",
        "    accuracy_score(y_test,y_pred)*100)\n",
        "      \n",
        "print(\"Report : \",\n",
        "    classification_report(y_test, y_pred))"
      ],
      "metadata": {
        "colab": {
          "base_uri": "https://localhost:8080/"
        },
        "id": "Jj0nSQ_68Ibv",
        "outputId": "ba7d8269-c798-48cb-be98-d301678e0e35"
      },
      "execution_count": 62,
      "outputs": [
        {
          "output_type": "stream",
          "name": "stdout",
          "text": [
            "Confusion Matrix:  [[862   6]\n",
            " [  2  33]]\n",
            "Accuracy :  99.1140642303433\n",
            "Report :                precision    recall  f1-score   support\n",
            "\n",
            "           0       1.00      0.99      1.00       868\n",
            "           1       0.85      0.94      0.89        35\n",
            "\n",
            "    accuracy                           0.99       903\n",
            "   macro avg       0.92      0.97      0.94       903\n",
            "weighted avg       0.99      0.99      0.99       903\n",
            "\n"
          ]
        }
      ]
    },
    {
      "cell_type": "markdown",
      "source": [
        "with Important feature our model makes 99% accuracy"
      ],
      "metadata": {
        "id": "gdN-AEze93et"
      }
    },
    {
      "cell_type": "markdown",
      "source": [
        "Performing parameter tuning"
      ],
      "metadata": {
        "id": "pD7WAeGkCmGH"
      }
    },
    {
      "cell_type": "code",
      "source": [
        "from sklearn.model_selection import GridSearchCV, RandomizedSearchCV, KFold, cross_val_score"
      ],
      "metadata": {
        "id": "MrLP3ZXCCkiv"
      },
      "execution_count": 63,
      "outputs": []
    },
    {
      "cell_type": "code",
      "source": [
        "# Previewing the parameters to tune\n",
        "#\n",
        "RandomForestClassifier()"
      ],
      "metadata": {
        "colab": {
          "base_uri": "https://localhost:8080/"
        },
        "id": "mucMnPg5CHyj",
        "outputId": "69d6ef23-6faa-45d3-b29c-df133f74771f"
      },
      "execution_count": 64,
      "outputs": [
        {
          "output_type": "execute_result",
          "data": {
            "text/plain": [
              "RandomForestClassifier()"
            ]
          },
          "metadata": {},
          "execution_count": 64
        }
      ]
    },
    {
      "cell_type": "code",
      "source": [
        "# Creating a dictionary of parameters to tune\n",
        "#\n",
        "params = {'n_estimators': [10, 20, 30, 50, 100],\n",
        "         'max_depth': [1, 2, 3, 4, 5]}\n",
        "\n",
        "# Setting the number of folds to 10 and instantiating the model\n",
        "# \n",
        "kfold = KFold(n_splits=10, shuffle=True)\n",
        "model = RandomForestClassifier()\n",
        "\n",
        "search = GridSearchCV(model, param_grid=params, scoring = 'f1', cv = kfold)\n",
        "\n",
        "# Fitting the grid search with the X and the y variables\n",
        "#\n",
        "search.fit(X, y)\n",
        "\n",
        "# Checking for the best parameters\n",
        "#\n",
        "print(f'The best parameters are: {search.best_params_}')"
      ],
      "metadata": {
        "colab": {
          "base_uri": "https://localhost:8080/"
        },
        "id": "aVdi4jwyCHui",
        "outputId": "756409ee-3e60-4573-a47b-da637aa5e7e7"
      },
      "execution_count": 65,
      "outputs": [
        {
          "output_type": "stream",
          "name": "stdout",
          "text": [
            "The best parameters are: {'max_depth': 5, 'n_estimators': 100}\n"
          ]
        }
      ]
    },
    {
      "cell_type": "code",
      "source": [
        "# Applying the best parameters to the model\n",
        "#\n",
        "# Selecting only important features and the y variable\n",
        "#\n",
        "X = X[['age', 'TSH', 'T3', 'TT4', 'T4U', 'FTI', 'TSH_measured']]\n",
        "\n",
        "y = np.where(tsh.status == 'hypothyroid', 1, 0)\n",
        "\n",
        "# Splitting the data into training and testing sets\n",
        "#\n",
        "X_train, X_test, y_train, y_test = train_test_split(X, y, test_size = 0.3, random_state = 0)\n",
        "\n",
        "# Instantiating the model\n",
        "#\n",
        "rf = RandomForestClassifier(n_estimators=100, max_depth=5, random_state = 0)\n",
        "rf.fit(X_train, y_train)\n",
        "\n",
        "# Making predictions\n",
        "#\n",
        "y_pred = rf.predict(X_test)\n",
        "\n",
        "#\n",
        "#Evaluating our model\n",
        "print(\"Confusion Matrix: \",\n",
        "        confusion_matrix(y_test, y_pred))\n",
        "      \n",
        "print (\"Accuracy : \",\n",
        "    accuracy_score(y_test,y_pred)*100)\n",
        "      \n",
        "print(\"Report : \",\n",
        "    classification_report(y_test, y_pred))"
      ],
      "metadata": {
        "colab": {
          "base_uri": "https://localhost:8080/"
        },
        "id": "LEOt6cObCHrv",
        "outputId": "12e7b469-9522-4aee-802e-458b0ea51ad4"
      },
      "execution_count": 66,
      "outputs": [
        {
          "output_type": "stream",
          "name": "stdout",
          "text": [
            "Confusion Matrix:  [[863   5]\n",
            " [  4  31]]\n",
            "Accuracy :  99.00332225913621\n",
            "Report :                precision    recall  f1-score   support\n",
            "\n",
            "           0       1.00      0.99      0.99       868\n",
            "           1       0.86      0.89      0.87        35\n",
            "\n",
            "    accuracy                           0.99       903\n",
            "   macro avg       0.93      0.94      0.93       903\n",
            "weighted avg       0.99      0.99      0.99       903\n",
            "\n"
          ]
        }
      ]
    },
    {
      "cell_type": "markdown",
      "source": [
        "99% accuracy with this model"
      ],
      "metadata": {
        "id": "FiU5LapUAMYE"
      }
    },
    {
      "cell_type": "markdown",
      "source": [
        "**b. ADA boost**"
      ],
      "metadata": {
        "id": "utnNOlC3-Jh6"
      }
    },
    {
      "cell_type": "code",
      "source": [
        "from sklearn.ensemble import AdaBoostClassifier\n",
        "from sklearn.datasets import make_classification\n",
        "from sklearn.tree import DecisionTreeClassifier\n",
        "\n",
        "tree = DecisionTreeClassifier()\n",
        "\n",
        "# Train it on our training set.\n",
        "tree = tree.fit(X_train, y_train)\n",
        "\n",
        "ada_boostc1 = AdaBoostClassifier(DecisionTreeClassifier(max_depth=4),\n",
        "                          n_estimators=300, random_state=0)\n",
        "\n",
        "ada_boostd = ada_boostc1.fit(X_train, y_train)\n",
        "y_pred_ada = ada_boostd.predict(X_test)\n"
      ],
      "metadata": {
        "id": "RA88MyBI-XSV"
      },
      "execution_count": 67,
      "outputs": []
    },
    {
      "cell_type": "code",
      "source": [
        "#Evaluating our model\n",
        "print(\"Confusion Matrix: \",\n",
        "        confusion_matrix(y_test, y_pred_ada))\n",
        "      \n",
        "print (\"Accuracy : \",\n",
        "    accuracy_score(y_test,y_pred_ada)*100)\n",
        "      \n",
        "print(\"Report : \",\n",
        "    classification_report(y_test, y_pred_ada))"
      ],
      "metadata": {
        "colab": {
          "base_uri": "https://localhost:8080/"
        },
        "id": "pxkSH_9I_BMw",
        "outputId": "9c2a781c-af81-44a4-f9c2-55d36181093f"
      },
      "execution_count": 68,
      "outputs": [
        {
          "output_type": "stream",
          "name": "stdout",
          "text": [
            "Confusion Matrix:  [[862   6]\n",
            " [  4  31]]\n",
            "Accuracy :  98.89258028792912\n",
            "Report :                precision    recall  f1-score   support\n",
            "\n",
            "           0       1.00      0.99      0.99       868\n",
            "           1       0.84      0.89      0.86        35\n",
            "\n",
            "    accuracy                           0.99       903\n",
            "   macro avg       0.92      0.94      0.93       903\n",
            "weighted avg       0.99      0.99      0.99       903\n",
            "\n"
          ]
        }
      ]
    },
    {
      "cell_type": "markdown",
      "source": [
        "Ada boost also gives us a 99% accuracy"
      ],
      "metadata": {
        "id": "l4IK7IlB_wwD"
      }
    },
    {
      "cell_type": "markdown",
      "source": [
        "**c. Gradient boosted**"
      ],
      "metadata": {
        "id": "xXtOllGo-N-1"
      }
    },
    {
      "cell_type": "code",
      "source": [
        "from sklearn.ensemble import GradientBoostingClassifier\n",
        "\n",
        "target_number_of_trees = 300\n",
        "\n",
        "gbr = GradientBoostingClassifier(n_estimators=target_number_of_trees, learning_rate=0.1, max_depth=2)\n",
        "gbr = gbr.fit(X_train, y_train)\n",
        "\n",
        "y_pred_gbr = gbr.predict(X_test)\n"
      ],
      "metadata": {
        "id": "zEXRLsq7ADUw"
      },
      "execution_count": 69,
      "outputs": []
    },
    {
      "cell_type": "code",
      "source": [
        "#Evaluating our model\n",
        "print(\"Confusion Matrix: \",\n",
        "        confusion_matrix(y_test, y_pred_gbr))\n",
        "      \n",
        "print (\"Accuracy : \",\n",
        "    accuracy_score(y_test,y_pred_gbr)*100)\n",
        "      \n",
        "print(\"Report : \",\n",
        "    classification_report(y_test, y_pred_gbr))"
      ],
      "metadata": {
        "colab": {
          "base_uri": "https://localhost:8080/"
        },
        "id": "DY3VA0XwAJbo",
        "outputId": "0e77bc92-c667-4e8b-8a8c-28f0a4b33515"
      },
      "execution_count": 70,
      "outputs": [
        {
          "output_type": "stream",
          "name": "stdout",
          "text": [
            "Confusion Matrix:  [[860   8]\n",
            " [  4  31]]\n",
            "Accuracy :  98.67109634551495\n",
            "Report :                precision    recall  f1-score   support\n",
            "\n",
            "           0       1.00      0.99      0.99       868\n",
            "           1       0.79      0.89      0.84        35\n",
            "\n",
            "    accuracy                           0.99       903\n",
            "   macro avg       0.90      0.94      0.92       903\n",
            "weighted avg       0.99      0.99      0.99       903\n",
            "\n"
          ]
        }
      ]
    },
    {
      "cell_type": "markdown",
      "source": [
        "Gradient boost give us a 99.0% accuracy"
      ],
      "metadata": {
        "id": "rlxJgfHKAbJe"
      }
    },
    {
      "cell_type": "markdown",
      "source": [
        "## **2. Support Vector Machine**"
      ],
      "metadata": {
        "id": "-ltX-1TMdBCP"
      }
    },
    {
      "cell_type": "code",
      "source": [
        "from sklearn.svm import SVC\n",
        "from sklearn.decomposition import PCA"
      ],
      "metadata": {
        "id": "g-HEq15fdIOz"
      },
      "execution_count": 71,
      "outputs": []
    },
    {
      "cell_type": "code",
      "source": [
        "tsh.columns"
      ],
      "metadata": {
        "colab": {
          "base_uri": "https://localhost:8080/"
        },
        "id": "6Om3CrydFpca",
        "outputId": "698d7f08-d9ca-4f01-c39b-a5cbc8450746"
      },
      "execution_count": 72,
      "outputs": [
        {
          "output_type": "execute_result",
          "data": {
            "text/plain": [
              "Index(['status', 'age', 'sex', 'on_thyroxine', 'query_on_thyroxine',\n",
              "       'on_antithyroid_medication', 'thyroid_surgery', 'query_hypothyroid',\n",
              "       'query_hyperthyroid', 'pregnant', 'sick', 'tumor', 'lithium', 'goitre',\n",
              "       'TSH_measured', 'TSH', 'T3_measured', 'T3', 'TT4_measured', 'TT4',\n",
              "       'T4U_measured', 'T4U', 'FTI_measured', 'FTI'],\n",
              "      dtype='object')"
            ]
          },
          "metadata": {},
          "execution_count": 72
        }
      ]
    },
    {
      "cell_type": "code",
      "source": [
        "predictor = tsh.drop(['status'], axis=1)\n",
        "y = tsh['status']"
      ],
      "metadata": {
        "id": "a_DvQ8AkFpWL"
      },
      "execution_count": 73,
      "outputs": []
    },
    {
      "cell_type": "code",
      "source": [
        "# Applying the reduction algorithm: PCA\n",
        "pca = PCA(n_components=2).fit(X)\n",
        "X = pca.transform(X)\n",
        "X.shape"
      ],
      "metadata": {
        "colab": {
          "base_uri": "https://localhost:8080/"
        },
        "id": "prv5WKFQFpQq",
        "outputId": "68021a95-cec1-4270-c223-9c690c9550eb"
      },
      "execution_count": 74,
      "outputs": [
        {
          "output_type": "execute_result",
          "data": {
            "text/plain": [
              "(3007, 2)"
            ]
          },
          "metadata": {},
          "execution_count": 74
        }
      ]
    },
    {
      "cell_type": "code",
      "source": [
        "#  Split the data into train and test set\n",
        "X_train, X_test, y_train, y_test = train_test_split(X, y, test_size = 0.2, random_state = 0)"
      ],
      "metadata": {
        "id": "rElik1ifFvax"
      },
      "execution_count": 75,
      "outputs": []
    },
    {
      "cell_type": "code",
      "source": [
        " # Standardising the data\n",
        "from sklearn.preprocessing import StandardScaler\n",
        "sc = StandardScaler()\n",
        "X_train = sc.fit_transform(X_train)\n",
        "X_test = sc.transform(X_test)"
      ],
      "metadata": {
        "id": "_eM_fwBiMWNS"
      },
      "execution_count": 76,
      "outputs": []
    },
    {
      "cell_type": "code",
      "source": [
        "# Instantiating and creating a list of models for iteration\n",
        "#\n",
        "poly = SVC(kernel='poly')\n",
        "linear = SVC(kernel = 'linear')\n",
        "rbf = SVC(kernel ='rbf')\n",
        "\n",
        "# Creating a list of the models and model names\n",
        "#\n",
        "models = [poly, linear, rbf]\n",
        "model_names = ['Polynomial', 'Linear', 'Rbf']\n",
        "\n",
        "# Creating a function that trains a model and returns its accuracy together with the model\n",
        "#\n",
        "def predictor(model, X, y):\n",
        "  # Splitting the data into training and testing sets\n",
        "  X_train, X_test, y_train, y_test = train_test_split(X, y, test_size = 0.3, random_state = 0)\n",
        "  \n",
        "  # Standardising the data\n",
        "  sc = StandardScaler()\n",
        "  X_train = sc.fit_transform(X_train)\n",
        "  X_test = sc.transform(X_test)\n",
        "  \n",
        "  # Training the model and making predictions\n",
        "  model.fit(X_train, y_train)\n",
        "  y_pred = model.predict(X_test)\n",
        "  \n",
        "  # Measuring the accuracy of the model\n",
        "  \n",
        "  acc = accuracy_score(y_test, y_pred)\n",
        "  \n",
        "  # Returning the accuracy and the model\n",
        "  return acc,model\n",
        "\n",
        "# Getting the accuracies of the models  using a for loop\n",
        "#\n",
        "for model, name in zip(models, model_names):\n",
        "  print(f'The accuracy score of {name:<10} is: {predictor(model, X, y)[0]}')"
      ],
      "metadata": {
        "colab": {
          "base_uri": "https://localhost:8080/"
        },
        "id": "L0Hs0QIlNkni",
        "outputId": "9998bf2f-18dd-43ff-90dd-6038b35ebef0"
      },
      "execution_count": 77,
      "outputs": [
        {
          "output_type": "stream",
          "name": "stdout",
          "text": [
            "The accuracy score of Polynomial is: 0.9800664451827242\n",
            "The accuracy score of Linear     is: 0.982281284606866\n",
            "The accuracy score of Rbf        is: 0.982281284606866\n"
          ]
        }
      ]
    },
    {
      "cell_type": "code",
      "source": [
        "from sklearn.metrics import plot_confusion_matrix\n",
        "\n",
        "plot_confusion_matrix(model, X_test, y_test)\n",
        "plt.show()"
      ],
      "metadata": {
        "colab": {
          "base_uri": "https://localhost:8080/",
          "height": 279
        },
        "id": "iOu3WAtJBdqi",
        "outputId": "736d9d80-6dcb-489d-c204-e80489c29629"
      },
      "execution_count": 80,
      "outputs": [
        {
          "output_type": "display_data",
          "data": {
            "text/plain": [
              "<Figure size 432x288 with 2 Axes>"
            ],
            "image/png": "[encoded data removed]"
          },
          "metadata": {
            "needs_background": "light"
          }
        }
      ]
    },
    {
      "cell_type": "markdown",
      "source": [
        "Our SVMKernel model had almost similar accuracy with linear and RBF having the best hence best choice for SVM approach"
      ],
      "metadata": {
        "id": "jbzitQQueaa6"
      }
    },
    {
      "cell_type": "code",
      "source": [
        "def make_meshgrid(x, y, h=.02):\n",
        "    x_min, x_max = x.min() - 1, x.max() + 1\n",
        "    y_min, y_max = y.min() - 1, y.max() + 1\n",
        "    xx, yy = np.meshgrid(np.arange(x_min, x_max, h), np.arange(y_min, y_max, h))\n",
        "    return xx, yy\n",
        "\n",
        "def plot_contours(ax, clf, xx, yy, **params):\n",
        "    Z = clf.predict(np.c_[xx.ravel(), yy.ravel()])\n",
        "    Z = Z.reshape(xx.shape)\n",
        "    out = ax.contourf(xx, yy, Z, **params)\n",
        "    return out\n",
        "\n",
        "# Set-up 1x3 grid for plotting.\n",
        "fig, axes = plt.subplots(nrows = 1, ncols = 3, figsize = (15, 7))\n",
        "plt.subplots_adjust(wspace=0.4, hspace=0.4)\n",
        "plt.suptitle('Comparison of different SVC Kernels', fontsize = 15)\n",
        "\n",
        "# title for the plots\n",
        "titles = ('Polynomial kernel', 'Linear kernel', ' RBF kernel')\n",
        "\n",
        "# Randomly selecting 300 datapoints to plot\n",
        "X = X\n",
        "X0, X1 = X[:, 0], X[:, 1]\n",
        "xx, yy = make_meshgrid(X0, X1)\n",
        "\n",
        "for clf, title, ax in zip(models, titles, axes.flatten()):\n",
        "    plot_contours(ax, clf, xx, yy, cmap=plt.cm.coolwarm, alpha=0.8)\n",
        "    ax.scatter(X0, X1, c=y, cmap=plt.cm.coolwarm, s=20, edgecolors='k')\n",
        "    ax.set_xlim(xx.min(), xx.max())\n",
        "    ax.set_ylim(yy.min(), yy.max())\n",
        "    ax.set_xlabel('FTI')\n",
        "    ax.set_ylabel('TSH')\n",
        "    ax.set_xticks(())\n",
        "    ax.set_yticks(())\n",
        "    ax.set_title(title)\n",
        "\n",
        "plt.show()"
      ],
      "metadata": {
        "id": "OcPMfrmoZlMK"
      },
      "execution_count": null,
      "outputs": []
    },
    {
      "cell_type": "markdown",
      "source": [
        "## **Challenging The solution**"
      ],
      "metadata": {
        "id": "nUqzPhMqJvnT"
      }
    },
    {
      "cell_type": "code",
      "source": [
        "# Importing different classification models\n",
        "#\n",
        "from sklearn.model_selection import KFold, cross_val_score\n",
        "from sklearn.ensemble import GradientBoostingClassifier\n",
        "from sklearn.tree import DecisionTreeClassifier\n",
        "from sklearn.naive_bayes import GaussianNB\n",
        "from sklearn.neighbors import KNeighborsClassifier\n",
        "from xgboost import XGBClassifier\n",
        "from sklearn.linear_model import LogisticRegression\n",
        "import warnings\n",
        "warnings.filterwarnings('ignore')\n",
        "\n",
        "# Creating a list of classifier algorithms to compare with\n",
        "#\n",
        "models = [GradientBoostingClassifier(), DecisionTreeClassifier(), XGBClassifier(), KNeighborsClassifier(),\\\n",
        "          GaussianNB(), LogisticRegression()]\n",
        "\n",
        "# Creating lists of the algorithms, to store the accuracy scores of each fold\n",
        "#\n",
        "GradientBoosting, DecisionTree, XGB, KNeighbors, GaussianNB, LogisticRegression = ([] for x in range(6))\n",
        "\n",
        "# Creating a list containig the list of each algorithm. Created for easy iteration\n",
        "#\n",
        "model_list = [GradientBoosting, DecisionTree, XGB, KNeighbors, GaussianNB, LogisticRegression]\n",
        "\n",
        "# Selecting the independent variables and the target variable\n",
        "#\n",
        "X = tsh.drop('status', axis = 1)\n",
        "y = np.where(tsh.status == 'hypothyroid', 1, 0)\n",
        "\n",
        "# Encoding categorical variables\n",
        "#\n",
        "X = pd.get_dummies(X)\n",
        "\n",
        "# Creating a cross validation of 10 folds\n",
        "#\n",
        "kfold  = KFold(n_splits=10, shuffle = True, random_state = 0)\n",
        "\n",
        "# Iterating through each model and appending the scores of each fold to the appriopriate list\n",
        "#\n",
        "for i, j in zip(models, model_list):\n",
        "  j.extend(list(cross_val_score(i, X, y, scoring = 'f1', cv = kfold)))\n",
        "  \n",
        "# Creating a dataframe of all the scores from the iterations for each model\n",
        "#\n",
        "scores = pd.DataFrame({'GradientBoosting': GradientBoosting, 'DecisionTree': DecisionTree, 'XGB': XGB,\\\n",
        "              'KNeighbors': KNeighbors, 'GaussianNB': GaussianNB, 'LogisticRegression': LogisticRegression}, index = range(1, 11))\n",
        "\n",
        "# Calculating the mean and standard deviation score of each algorithm\n",
        "#\n",
        "scores.loc['mean'] = scores.mean()\n",
        "scores.loc['std'] = scores.std()\n",
        "\n",
        "# Previewing the scores dataframe\n",
        "#\n",
        "scores"
      ],
      "metadata": {
        "colab": {
          "base_uri": "https://localhost:8080/",
          "height": 425
        },
        "id": "0goNwSjDJ1PC",
        "outputId": "4b95d5dd-86da-4f68-9964-3bba1c5c43c8"
      },
      "execution_count": 81,
      "outputs": [
        {
          "output_type": "execute_result",
          "data": {
            "text/plain": [
              "      GradientBoosting  DecisionTree       XGB  KNeighbors  GaussianNB  \\\n",
              "1             0.923077      0.800000  0.923077    0.880000    0.099174   \n",
              "2             0.846154      0.846154  0.916667    0.761905    0.105727   \n",
              "3             0.869565      0.869565  0.869565    0.800000    0.095694   \n",
              "4             0.975610      0.923077  0.975610    0.871795    0.171429   \n",
              "5             0.864865      0.833333  0.918919    0.823529    0.138776   \n",
              "6             0.909091      0.952381  0.909091    0.833333    0.094421   \n",
              "7             0.909091      0.857143  0.909091    0.714286    0.126582   \n",
              "8             0.857143      0.812500  0.833333    0.756757    0.146341   \n",
              "9             0.952381      0.952381  0.952381    0.909091    0.084388   \n",
              "10            0.952381      0.900000  1.000000    0.900000    0.082988   \n",
              "mean          0.905936      0.874653  0.920773    0.825070    0.114552   \n",
              "std           0.042950      0.052306  0.045661    0.062852    0.028211   \n",
              "\n",
              "      LogisticRegression  \n",
              "1               0.833333  \n",
              "2               0.636364  \n",
              "3               0.869565  \n",
              "4               0.810811  \n",
              "5               0.848485  \n",
              "6               0.727273  \n",
              "7               0.785714  \n",
              "8               0.645161  \n",
              "9               0.900000  \n",
              "10              0.888889  \n",
              "mean            0.794560  \n",
              "std             0.090702  "
            ],
            "text/html": [
              "\n",
              "  <div id=\"df-6db7672d-9552-4b97-8d3e-b44a39fee5fd\">\n",
              "    <div class=\"colab-df-container\">\n",
              "      <div>\n",
              "<style scoped>\n",
              "    .dataframe tbody tr th:only-of-type {\n",
              "        vertical-align: middle;\n",
              "    }\n",
              "\n",
              "    .dataframe tbody tr th {\n",
              "        vertical-align: top;\n",
              "    }\n",
              "\n",
              "    .dataframe thead th {\n",
              "        text-align: right;\n",
              "    }\n",
              "</style>\n",
              "<table border=\"1\" class=\"dataframe\">\n",
              "  <thead>\n",
              "    <tr style=\"text-align: right;\">\n",
              "      <th></th>\n",
              "      <th>GradientBoosting</th>\n",
              "      <th>DecisionTree</th>\n",
              "      <th>XGB</th>\n",
              "      <th>KNeighbors</th>\n",
              "      <th>GaussianNB</th>\n",
              "      <th>LogisticRegression</th>\n",
              "    </tr>\n",
              "  </thead>\n",
              "  <tbody>\n",
              "    <tr>\n",
              "      <th>1</th>\n",
              "      <td>0.923077</td>\n",
              "      <td>0.800000</td>\n",
              "      <td>0.923077</td>\n",
              "      <td>0.880000</td>\n",
              "      <td>0.099174</td>\n",
              "      <td>0.833333</td>\n",
              "    </tr>\n",
              "    <tr>\n",
              "      <th>2</th>\n",
              "      <td>0.846154</td>\n",
              "      <td>0.846154</td>\n",
              "      <td>0.916667</td>\n",
              "      <td>0.761905</td>\n",
              "      <td>0.105727</td>\n",
              "      <td>0.636364</td>\n",
              "    </tr>\n",
              "    <tr>\n",
              "      <th>3</th>\n",
              "      <td>0.869565</td>\n",
              "      <td>0.869565</td>\n",
              "      <td>0.869565</td>\n",
              "      <td>0.800000</td>\n",
              "      <td>0.095694</td>\n",
              "      <td>0.869565</td>\n",
              "    </tr>\n",
              "    <tr>\n",
              "      <th>4</th>\n",
              "      <td>0.975610</td>\n",
              "      <td>0.923077</td>\n",
              "      <td>0.975610</td>\n",
              "      <td>0.871795</td>\n",
              "      <td>0.171429</td>\n",
              "      <td>0.810811</td>\n",
              "    </tr>\n",
              "    <tr>\n",
              "      <th>5</th>\n",
              "      <td>0.864865</td>\n",
              "      <td>0.833333</td>\n",
              "      <td>0.918919</td>\n",
              "      <td>0.823529</td>\n",
              "      <td>0.138776</td>\n",
              "      <td>0.848485</td>\n",
              "    </tr>\n",
              "    <tr>\n",
              "      <th>6</th>\n",
              "      <td>0.909091</td>\n",
              "      <td>0.952381</td>\n",
              "      <td>0.909091</td>\n",
              "      <td>0.833333</td>\n",
              "      <td>0.094421</td>\n",
              "      <td>0.727273</td>\n",
              "    </tr>\n",
              "    <tr>\n",
              "      <th>7</th>\n",
              "      <td>0.909091</td>\n",
              "      <td>0.857143</td>\n",
              "      <td>0.909091</td>\n",
              "      <td>0.714286</td>\n",
              "      <td>0.126582</td>\n",
              "      <td>0.785714</td>\n",
              "    </tr>\n",
              "    <tr>\n",
              "      <th>8</th>\n",
              "      <td>0.857143</td>\n",
              "      <td>0.812500</td>\n",
              "      <td>0.833333</td>\n",
              "      <td>0.756757</td>\n",
              "      <td>0.146341</td>\n",
              "      <td>0.645161</td>\n",
              "    </tr>\n",
              "    <tr>\n",
              "      <th>9</th>\n",
              "      <td>0.952381</td>\n",
              "      <td>0.952381</td>\n",
              "      <td>0.952381</td>\n",
              "      <td>0.909091</td>\n",
              "      <td>0.084388</td>\n",
              "      <td>0.900000</td>\n",
              "    </tr>\n",
              "    <tr>\n",
              "      <th>10</th>\n",
              "      <td>0.952381</td>\n",
              "      <td>0.900000</td>\n",
              "      <td>1.000000</td>\n",
              "      <td>0.900000</td>\n",
              "      <td>0.082988</td>\n",
              "      <td>0.888889</td>\n",
              "    </tr>\n",
              "    <tr>\n",
              "      <th>mean</th>\n",
              "      <td>0.905936</td>\n",
              "      <td>0.874653</td>\n",
              "      <td>0.920773</td>\n",
              "      <td>0.825070</td>\n",
              "      <td>0.114552</td>\n",
              "      <td>0.794560</td>\n",
              "    </tr>\n",
              "    <tr>\n",
              "      <th>std</th>\n",
              "      <td>0.042950</td>\n",
              "      <td>0.052306</td>\n",
              "      <td>0.045661</td>\n",
              "      <td>0.062852</td>\n",
              "      <td>0.028211</td>\n",
              "      <td>0.090702</td>\n",
              "    </tr>\n",
              "  </tbody>\n",
              "</table>\n",
              "</div>\n",
              "      <button class=\"colab-df-convert\" onclick=\"convertToInteractive('df-6db7672d-9552-4b97-8d3e-b44a39fee5fd')\"\n",
              "              title=\"Convert this dataframe to an interactive table.\"\n",
              "              style=\"display:none;\">\n",
              "        \n",
              "  <svg xmlns=\"http://www.w3.org/2000/svg\" height=\"24px\"viewBox=\"0 0 24 24\"\n",
              "       width=\"24px\">\n",
              "    <path d=\"M0 0h24v24H0V0z\" fill=\"none\"/>\n",
              "    <path d=\"M18.56 5.44l.94 2.06.94-2.06 2.06-.94-2.06-.94-.94-2.06-.94 2.06-2.06.94zm-11 1L8.5 8.5l.94-2.06 2.06-.94-2.06-.94L8.5 2.5l-.94 2.06-2.06.94zm10 10l.94 2.06.94-2.06 2.06-.94-2.06-.94-.94-2.06-.94 2.06-2.06.94z\"/><path d=\"M17.41 7.96l-1.37-1.37c-.4-.4-.92-.59-1.43-.59-.52 0-1.04.2-1.43.59L10.3 9.45l-7.72 7.72c-.78.78-.78 2.05 0 2.83L4 21.41c.39.39.9.59 1.41.59.51 0 1.02-.2 1.41-.59l7.78-7.78 2.81-2.81c.8-.78.8-2.07 0-2.86zM5.41 20L4 18.59l7.72-7.72 1.47 1.35L5.41 20z\"/>\n",
              "  </svg>\n",
              "      </button>\n",
              "      \n",
              "  <style>\n",
              "    .colab-df-container {\n",
              "      display:flex;\n",
              "      flex-wrap:wrap;\n",
              "      gap: 12px;\n",
              "    }\n",
              "\n",
              "    .colab-df-convert {\n",
              "      background-color: #E8F0FE;\n",
              "      border: none;\n",
              "      border-radius: 50%;\n",
              "      cursor: pointer;\n",
              "      display: none;\n",
              "      fill: #1967D2;\n",
              "      height: 32px;\n",
              "      padding: 0 0 0 0;\n",
              "      width: 32px;\n",
              "    }\n",
              "\n",
              "    .colab-df-convert:hover {\n",
              "      background-color: #E2EBFA;\n",
              "      box-shadow: 0px 1px 2px rgba(60, 64, 67, 0.3), 0px 1px 3px 1px rgba(60, 64, 67, 0.15);\n",
              "      fill: #174EA6;\n",
              "    }\n",
              "\n",
              "    [theme=dark] .colab-df-convert {\n",
              "      background-color: #3B4455;\n",
              "      fill: #D2E3FC;\n",
              "    }\n",
              "\n",
              "    [theme=dark] .colab-df-convert:hover {\n",
              "      background-color: #434B5C;\n",
              "      box-shadow: 0px 1px 3px 1px rgba(0, 0, 0, 0.15);\n",
              "      filter: drop-shadow(0px 1px 2px rgba(0, 0, 0, 0.3));\n",
              "      fill: #FFFFFF;\n",
              "    }\n",
              "  </style>\n",
              "\n",
              "      <script>\n",
              "        const buttonEl =\n",
              "          document.querySelector('#df-6db7672d-9552-4b97-8d3e-b44a39fee5fd button.colab-df-convert');\n",
              "        buttonEl.style.display =\n",
              "          google.colab.kernel.accessAllowed ? 'block' : 'none';\n",
              "\n",
              "        async function convertToInteractive(key) {\n",
              "          const element = document.querySelector('#df-6db7672d-9552-4b97-8d3e-b44a39fee5fd');\n",
              "          const dataTable =\n",
              "            await google.colab.kernel.invokeFunction('convertToInteractive',\n",
              "                                                     [key], {});\n",
              "          if (!dataTable) return;\n",
              "\n",
              "          const docLinkHtml = 'Like what you see? Visit the ' +\n",
              "            '<a target=\"_blank\" href=https://colab.research.google.com/notebooks/data_table.ipynb>data table notebook</a>'\n",
              "            + ' to learn more about interactive tables.';\n",
              "          element.innerHTML = '';\n",
              "          dataTable['output_type'] = 'display_data';\n",
              "          await google.colab.output.renderOutput(dataTable, element);\n",
              "          const docLink = document.createElement('div');\n",
              "          docLink.innerHTML = docLinkHtml;\n",
              "          element.appendChild(docLink);\n",
              "        }\n",
              "      </script>\n",
              "    </div>\n",
              "  </div>\n",
              "  "
            ]
          },
          "metadata": {},
          "execution_count": 81
        }
      ]
    },
    {
      "cell_type": "markdown",
      "source": [
        "We can see Ada boost is still the best model to make prediction of if a patient has or doesn't have Hypothyroidism"
      ],
      "metadata": {
        "id": "LWkDm8VaSnWf"
      }
    },
    {
      "cell_type": "markdown",
      "source": [
        "## **Conclusion**"
      ],
      "metadata": {
        "id": "0OClS4O9KSEe"
      }
    },
    {
      "cell_type": "markdown",
      "source": [
        "* Most of the people who attended the camp had an age range of 20 to 85 with age 50 having the highest number of attendee\n",
        "\n",
        "* Among the attendees most of them had a negative outcome\n",
        "\n",
        "* There were more female and also most of the positive diagnosis was from females too\n",
        "\n",
        "* Majority of women who are pregnant lie between the ages of approximately 18 and 40 with a spike between 20 to 38 which as per the normal population is the most favored child bearing age\n",
        "* The distribution of sick people is skewed to the left\n",
        "* Distribution of people with goitre is normally distributed\n",
        "\n",
        "* Out of all the models used to predict whether a person has hypothyroid, the AdaBoostClassifier performs well with an accuracy of 99.1%"
      ],
      "metadata": {
        "id": "e_6B0V04KdE0"
      }
    }
  ]
}